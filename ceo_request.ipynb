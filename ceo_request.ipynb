{
 "cells": [
  {
   "cell_type": "code",
   "execution_count": 2,
   "metadata": {},
   "outputs": [],
   "source": [
    "%load_ext autoreload\n",
    "%autoreload 2"
   ]
  },
  {
   "cell_type": "code",
   "execution_count": 3,
   "metadata": {},
   "outputs": [],
   "source": [
    "import pandas as pd\n",
    "import seaborn as sns\n",
    "import numpy as np\n",
    "import statsmodels.api as sm\n",
    "import statsmodels.formula.api as smf\n",
    "import matplotlib.pyplot as plt"
   ]
  },
  {
   "cell_type": "markdown",
   "metadata": {},
   "source": [
    "# CEO-Request Challenge"
   ]
  },
  {
   "cell_type": "markdown",
   "metadata": {},
   "source": [
    "## 1. Summary of Problem Statement"
   ]
  },
  {
   "cell_type": "markdown",
   "metadata": {},
   "source": [
    "❓ **How could Olist improve its profit** ❓"
   ]
  },
  {
   "cell_type": "markdown",
   "metadata": {},
   "source": [
    "### P&L Rules"
   ]
  },
  {
   "cell_type": "markdown",
   "metadata": {},
   "source": [
    "#### Revenues  \n",
    "**Sales fees:** Olist takes a **10% cut** on the product price (excl. freight) of each order delivered  \n",
    "**Subscription fees:** Olist charges **80 BRL per month** per seller\n",
    "\n",
    "#### Costs\n",
    "_Estimated_ **reputation costs** of orders with bad reviews (<= 3 stars)  \n",
    "\n",
    "💡 In the long term, bad customer experience has business implications: low repeat rate, immediate customer support cost, refunds or unfavorable word of mouth communication. We make an assumption about the monetary cost for each bad review:\n",
    "```python\n",
    "# review_score: cost(BRL)\n",
    "{'1 star': 100\n",
    " '2 stars': 50\n",
    " '3 stars': 40\n",
    " '4 stars': 0\n",
    " '5 stars': 0}\n",
    "```\n",
    "\n",
    "**IT costs:** Olist's **total cumulated IT Costs** scale with the square root of the total number of sellers that have ever joined the platform, as well as with the square root of the total cumulated number of items that were ever sold.\n",
    "\n",
    "$IT\\_costs = \\alpha * \\sqrt{n\\_sellers} + \\beta * \\sqrt{n\\_items}$  \n",
    "Olist's data team gave us the following values for these scaling parameters:\n",
    "- $\\alpha = 3157.27$\n",
    "- $\\beta = 978.23$\n",
    "\n",
    "💡 Both the number of sellers to manage and the number of sales transaction are costly for IT systems.  \n",
    "💡 Yet square roots reflect scale-effects: IT-system are often more efficient as they grow bigger.  \n",
    "💡 Alpha > Beta means that Olist has a lower IT Cost with few sellers selling a lot of items rather than the opposite  \n",
    "- with **1000 sellers** and a total of **100 items** sold, the total IT cost accumulates to 109,624 BRL\n",
    "- with **100 sellers** and a total of **1000 items** sold, the total IT cost accumulates to 62,507 BRL\n",
    "\n",
    "Finally, The IT department also told you that since the birth of the marketplace, cumulated IT costs have amounted to **500,000 BRL**."
   ]
  },
  {
   "cell_type": "markdown",
   "metadata": {},
   "source": [
    "### Key Findings, so far"
   ]
  },
  {
   "cell_type": "markdown",
   "metadata": {},
   "source": [
    "- `wait_time` is the most significant factor behind low review scores.\n",
    "- `wait_time` is made up of seller's `delay_to_carrier` + `carrier_delivery_time`.\n",
    "- Because the carrier's delivery time is out of Olist's direct control, improving it is not a quick-win recommendation.\n",
    "- On the contrary, a better selection of `sellers` can positively impact the `delay_to_carrier` and reduce the number of bad `review_scores` on Olist.\n",
    "- Comments in the bad reviews showed that some were linked to the seller or to the product itself."
   ]
  },
  {
   "cell_type": "markdown",
   "metadata": {},
   "source": [
    "💡 We recommend you to start with the the guided seller analysis in part 2 below.\n",
    "\n",
    "💪 But feel free to investigate other hypothesis instead with part 3."
   ]
  },
  {
   "cell_type": "markdown",
   "metadata": {},
   "source": [
    "## 2. Should Olist remove under-performing sellers from its marketplace? 🕵🏻\n",
    "*(recommended)*"
   ]
  },
  {
   "cell_type": "markdown",
   "metadata": {},
   "source": [
    "To analyze the impact of removing the worst sellers from Olist's marketplace, we will perform a **what-if analysis**\n",
    "\n",
    "👉 **What would have happened if Olist had never accepted these sellers in the first place?**  \n",
    "\n",
    "*(In practice, it's hard to know in advance who is a good seller, but let's start with this approach and iterate later).*"
   ]
  },
  {
   "cell_type": "markdown",
   "metadata": {},
   "source": [
    "### 2.1 Data Preparation"
   ]
  },
  {
   "cell_type": "markdown",
   "metadata": {},
   "source": [
    "Compute, for each `seller_id`, and cumulated since the beginning:\n",
    "- the `revenues` the seller brings\n",
    "- the `review_costs` associated with the seller's bad reviews\n",
    "- the resulting `profits` (revenues - costs)\n",
    "\n",
    "👉 Write down a step-by-step strategy to create the DataFrame you need.\n",
    "\n",
    "\n",
    "⚠️ Don't start from scratch, update your existing package! 😉\n",
    "\n",
    "Starting from the `Seller` class of your `olist` package:\n",
    "\n",
    "Edit the `get_training_data` method so that the DataFrame it returns contains the fields:\n",
    "- `revenues`: sum of subscription and sales fees revenues\n",
    "- `cost_of_reviews`: sum of costs associated with bad reviews\n",
    "- `profits`: `revenues` - `cost_of_reviews`"
   ]
  },
  {
   "cell_type": "code",
   "execution_count": 4,
   "metadata": {},
   "outputs": [
    {
     "data": {
      "text/html": [
       "<div>\n",
       "<style scoped>\n",
       "    .dataframe tbody tr th:only-of-type {\n",
       "        vertical-align: middle;\n",
       "    }\n",
       "\n",
       "    .dataframe tbody tr th {\n",
       "        vertical-align: top;\n",
       "    }\n",
       "\n",
       "    .dataframe thead th {\n",
       "        text-align: right;\n",
       "    }\n",
       "</style>\n",
       "<table border=\"1\" class=\"dataframe\">\n",
       "  <thead>\n",
       "    <tr style=\"text-align: right;\">\n",
       "      <th></th>\n",
       "      <th>seller_id</th>\n",
       "      <th>seller_city</th>\n",
       "      <th>seller_state</th>\n",
       "      <th>delay_to_carrier</th>\n",
       "      <th>wait_time</th>\n",
       "      <th>date_first_sale</th>\n",
       "      <th>date_last_sale</th>\n",
       "      <th>months_on_olist</th>\n",
       "      <th>n_orders</th>\n",
       "      <th>quantity</th>\n",
       "      <th>quantity_per_order</th>\n",
       "      <th>sales</th>\n",
       "      <th>share_of_five_stars</th>\n",
       "      <th>share_of_one_stars</th>\n",
       "      <th>review_score</th>\n",
       "      <th>revenues</th>\n",
       "    </tr>\n",
       "  </thead>\n",
       "  <tbody>\n",
       "    <tr>\n",
       "      <th>0</th>\n",
       "      <td>3442f8959a84dea7ee197c632cb2df15</td>\n",
       "      <td>campinas</td>\n",
       "      <td>SP</td>\n",
       "      <td>0.000000</td>\n",
       "      <td>13.018588</td>\n",
       "      <td>2017-05-05 16:25:11</td>\n",
       "      <td>2017-08-30 12:50:19</td>\n",
       "      <td>4.0</td>\n",
       "      <td>3</td>\n",
       "      <td>3</td>\n",
       "      <td>1.000</td>\n",
       "      <td>218.70</td>\n",
       "      <td>0.333333</td>\n",
       "      <td>0.333333</td>\n",
       "      <td>3.000000</td>\n",
       "      <td>341.870</td>\n",
       "    </tr>\n",
       "    <tr>\n",
       "      <th>1</th>\n",
       "      <td>d1b65fc7debc3361ea86b5f14c68d2e2</td>\n",
       "      <td>mogi guacu</td>\n",
       "      <td>SP</td>\n",
       "      <td>0.000000</td>\n",
       "      <td>9.065716</td>\n",
       "      <td>2017-03-29 02:10:34</td>\n",
       "      <td>2018-06-06 20:15:21</td>\n",
       "      <td>14.0</td>\n",
       "      <td>40</td>\n",
       "      <td>41</td>\n",
       "      <td>1.025</td>\n",
       "      <td>11703.07</td>\n",
       "      <td>0.731707</td>\n",
       "      <td>0.048780</td>\n",
       "      <td>4.560976</td>\n",
       "      <td>2290.307</td>\n",
       "    </tr>\n",
       "    <tr>\n",
       "      <th>2</th>\n",
       "      <td>ce3ad9de960102d0677a81f5d0bb7b2d</td>\n",
       "      <td>rio de janeiro</td>\n",
       "      <td>RJ</td>\n",
       "      <td>0.000000</td>\n",
       "      <td>4.042292</td>\n",
       "      <td>2018-07-30 12:44:49</td>\n",
       "      <td>2018-07-30 12:44:49</td>\n",
       "      <td>0.0</td>\n",
       "      <td>1</td>\n",
       "      <td>1</td>\n",
       "      <td>1.000</td>\n",
       "      <td>158.00</td>\n",
       "      <td>1.000000</td>\n",
       "      <td>NaN</td>\n",
       "      <td>5.000000</td>\n",
       "      <td>15.800</td>\n",
       "    </tr>\n",
       "    <tr>\n",
       "      <th>3</th>\n",
       "      <td>c0f3eea2e14555b6faeea3dd58c1b1c3</td>\n",
       "      <td>sao paulo</td>\n",
       "      <td>SP</td>\n",
       "      <td>0.000000</td>\n",
       "      <td>5.667187</td>\n",
       "      <td>2018-08-03 00:44:08</td>\n",
       "      <td>2018-08-03 00:44:08</td>\n",
       "      <td>0.0</td>\n",
       "      <td>1</td>\n",
       "      <td>1</td>\n",
       "      <td>1.000</td>\n",
       "      <td>79.99</td>\n",
       "      <td>1.000000</td>\n",
       "      <td>NaN</td>\n",
       "      <td>5.000000</td>\n",
       "      <td>7.999</td>\n",
       "    </tr>\n",
       "    <tr>\n",
       "      <th>4</th>\n",
       "      <td>51a04a8a6bdcb23deccc82b0b80742cf</td>\n",
       "      <td>braganca paulista</td>\n",
       "      <td>SP</td>\n",
       "      <td>3.353727</td>\n",
       "      <td>35.314861</td>\n",
       "      <td>2017-11-14 12:15:25</td>\n",
       "      <td>2017-11-14 12:15:25</td>\n",
       "      <td>0.0</td>\n",
       "      <td>1</td>\n",
       "      <td>1</td>\n",
       "      <td>1.000</td>\n",
       "      <td>167.99</td>\n",
       "      <td>NaN</td>\n",
       "      <td>1.000000</td>\n",
       "      <td>1.000000</td>\n",
       "      <td>16.799</td>\n",
       "    </tr>\n",
       "  </tbody>\n",
       "</table>\n",
       "</div>"
      ],
      "text/plain": [
       "                          seller_id        seller_city seller_state  \\\n",
       "0  3442f8959a84dea7ee197c632cb2df15           campinas           SP   \n",
       "1  d1b65fc7debc3361ea86b5f14c68d2e2         mogi guacu           SP   \n",
       "2  ce3ad9de960102d0677a81f5d0bb7b2d     rio de janeiro           RJ   \n",
       "3  c0f3eea2e14555b6faeea3dd58c1b1c3          sao paulo           SP   \n",
       "4  51a04a8a6bdcb23deccc82b0b80742cf  braganca paulista           SP   \n",
       "\n",
       "   delay_to_carrier  wait_time     date_first_sale      date_last_sale  \\\n",
       "0          0.000000  13.018588 2017-05-05 16:25:11 2017-08-30 12:50:19   \n",
       "1          0.000000   9.065716 2017-03-29 02:10:34 2018-06-06 20:15:21   \n",
       "2          0.000000   4.042292 2018-07-30 12:44:49 2018-07-30 12:44:49   \n",
       "3          0.000000   5.667187 2018-08-03 00:44:08 2018-08-03 00:44:08   \n",
       "4          3.353727  35.314861 2017-11-14 12:15:25 2017-11-14 12:15:25   \n",
       "\n",
       "   months_on_olist  n_orders  quantity  quantity_per_order     sales  \\\n",
       "0              4.0         3         3               1.000    218.70   \n",
       "1             14.0        40        41               1.025  11703.07   \n",
       "2              0.0         1         1               1.000    158.00   \n",
       "3              0.0         1         1               1.000     79.99   \n",
       "4              0.0         1         1               1.000    167.99   \n",
       "\n",
       "   share_of_five_stars  share_of_one_stars  review_score  revenues  \n",
       "0             0.333333            0.333333      3.000000   341.870  \n",
       "1             0.731707            0.048780      4.560976  2290.307  \n",
       "2             1.000000                 NaN      5.000000    15.800  \n",
       "3             1.000000                 NaN      5.000000     7.999  \n",
       "4                  NaN            1.000000      1.000000    16.799  "
      ]
     },
     "execution_count": 4,
     "metadata": {},
     "output_type": "execute_result"
    }
   ],
   "source": [
    "from olist.seller import Seller\n",
    "seller_df = Seller().get_training_data()\n",
    "seller_df.head()"
   ]
  },
  {
   "cell_type": "code",
   "execution_count": 5,
   "metadata": {},
   "outputs": [
    {
     "data": {
      "text/plain": [
       "2785818.444"
      ]
     },
     "execution_count": 5,
     "metadata": {},
     "output_type": "execute_result"
    }
   ],
   "source": [
    "seller_df[\"revenues\"] = seller_df[\"months_on_olist\"]*80+seller_df[\"sales\"]*0.1\n",
    "seller_df[\"revenues\"].sum()"
   ]
  },
  {
   "cell_type": "code",
   "execution_count": 181,
   "metadata": {},
   "outputs": [
    {
     "data": {
      "text/plain": [
       "2795921.503000012"
      ]
     },
     "execution_count": 181,
     "metadata": {},
     "output_type": "execute_result"
    }
   ],
   "source": [
    "dict_review = {5:0.075, 4:0.10, 3:0.125, 2:0.15, 1:0.20}\n",
    "revenue_seller_list = []\n",
    "for i in range(len(seller_df.index)):\n",
    "    revenue_seller = 0\n",
    "    multiplier = dict_review[round(seller_df[\"review_score\"][i])]\n",
    "    revenue_seller = seller_df[\"months_on_olist\"][i]*80+seller_df[\"sales\"][i]*multiplier\n",
    "    revenue_seller_list.append(revenue_seller)\n",
    "\n",
    "sum(revenue_seller_list)"
   ]
  },
  {
   "cell_type": "code",
   "execution_count": 151,
   "metadata": {},
   "outputs": [
    {
     "data": {
      "text/plain": [
       "0.095"
      ]
     },
     "execution_count": 151,
     "metadata": {},
     "output_type": "execute_result"
    }
   ],
   "source": [
    "dict_review[round(seller_df[\"review_score\"][1])]"
   ]
  },
  {
   "cell_type": "code",
   "execution_count": 6,
   "metadata": {},
   "outputs": [],
   "source": [
    "from olist.data import Olist\n",
    "data = Olist().get_data()"
   ]
  },
  {
   "cell_type": "code",
   "execution_count": 7,
   "metadata": {},
   "outputs": [
    {
     "data": {
      "text/plain": [
       "dict_keys(['products', 'orders', 'order_items', 'geolocation', 'order_reviews', 'order_payments', 'customers', 'product_category_name_translation', 'sellers'])"
      ]
     },
     "execution_count": 7,
     "metadata": {},
     "output_type": "execute_result"
    }
   ],
   "source": [
    "data.keys()"
   ]
  },
  {
   "cell_type": "code",
   "execution_count": 146,
   "metadata": {},
   "outputs": [
    {
     "data": {
      "text/html": [
       "<div>\n",
       "<style scoped>\n",
       "    .dataframe tbody tr th:only-of-type {\n",
       "        vertical-align: middle;\n",
       "    }\n",
       "\n",
       "    .dataframe tbody tr th {\n",
       "        vertical-align: top;\n",
       "    }\n",
       "\n",
       "    .dataframe thead th {\n",
       "        text-align: right;\n",
       "    }\n",
       "</style>\n",
       "<table border=\"1\" class=\"dataframe\">\n",
       "  <thead>\n",
       "    <tr style=\"text-align: right;\">\n",
       "      <th></th>\n",
       "      <th>review_id</th>\n",
       "      <th>order_id</th>\n",
       "      <th>review_score</th>\n",
       "      <th>review_comment_title</th>\n",
       "      <th>review_comment_message</th>\n",
       "      <th>review_creation_date</th>\n",
       "      <th>review_answer_timestamp</th>\n",
       "      <th>cost_of_reviews</th>\n",
       "    </tr>\n",
       "  </thead>\n",
       "  <tbody>\n",
       "    <tr>\n",
       "      <th>0</th>\n",
       "      <td>7bc2406110b926393aa56f80a40eba40</td>\n",
       "      <td>73fc7af87114b39712e6da79b0a377eb</td>\n",
       "      <td>4</td>\n",
       "      <td>NaN</td>\n",
       "      <td>NaN</td>\n",
       "      <td>2018-01-18 00:00:00</td>\n",
       "      <td>2018-01-18 21:46:59</td>\n",
       "      <td>0</td>\n",
       "    </tr>\n",
       "    <tr>\n",
       "      <th>1</th>\n",
       "      <td>80e641a11e56f04c1ad469d5645fdfde</td>\n",
       "      <td>a548910a1c6147796b98fdf73dbeba33</td>\n",
       "      <td>5</td>\n",
       "      <td>NaN</td>\n",
       "      <td>NaN</td>\n",
       "      <td>2018-03-10 00:00:00</td>\n",
       "      <td>2018-03-11 03:05:13</td>\n",
       "      <td>0</td>\n",
       "    </tr>\n",
       "    <tr>\n",
       "      <th>2</th>\n",
       "      <td>228ce5500dc1d8e020d8d1322874b6f0</td>\n",
       "      <td>f9e4b658b201a9f2ecdecbb34bed034b</td>\n",
       "      <td>5</td>\n",
       "      <td>NaN</td>\n",
       "      <td>NaN</td>\n",
       "      <td>2018-02-17 00:00:00</td>\n",
       "      <td>2018-02-18 14:36:24</td>\n",
       "      <td>0</td>\n",
       "    </tr>\n",
       "    <tr>\n",
       "      <th>3</th>\n",
       "      <td>e64fb393e7b32834bb789ff8bb30750e</td>\n",
       "      <td>658677c97b385a9be170737859d3511b</td>\n",
       "      <td>5</td>\n",
       "      <td>NaN</td>\n",
       "      <td>Recebi bem antes do prazo estipulado.</td>\n",
       "      <td>2017-04-21 00:00:00</td>\n",
       "      <td>2017-04-21 22:02:06</td>\n",
       "      <td>0</td>\n",
       "    </tr>\n",
       "    <tr>\n",
       "      <th>4</th>\n",
       "      <td>f7c4243c7fe1938f181bec41a392bdeb</td>\n",
       "      <td>8e6bfb81e283fa7e4f11123a3fb894f1</td>\n",
       "      <td>5</td>\n",
       "      <td>NaN</td>\n",
       "      <td>Parabéns lojas lannister adorei comprar pela I...</td>\n",
       "      <td>2018-03-01 00:00:00</td>\n",
       "      <td>2018-03-02 10:26:53</td>\n",
       "      <td>0</td>\n",
       "    </tr>\n",
       "    <tr>\n",
       "      <th>...</th>\n",
       "      <td>...</td>\n",
       "      <td>...</td>\n",
       "      <td>...</td>\n",
       "      <td>...</td>\n",
       "      <td>...</td>\n",
       "      <td>...</td>\n",
       "      <td>...</td>\n",
       "      <td>...</td>\n",
       "    </tr>\n",
       "    <tr>\n",
       "      <th>99219</th>\n",
       "      <td>574ed12dd733e5fa530cfd4bbf39d7c9</td>\n",
       "      <td>2a8c23fee101d4d5662fa670396eb8da</td>\n",
       "      <td>5</td>\n",
       "      <td>NaN</td>\n",
       "      <td>NaN</td>\n",
       "      <td>2018-07-07 00:00:00</td>\n",
       "      <td>2018-07-14 17:18:30</td>\n",
       "      <td>0</td>\n",
       "    </tr>\n",
       "    <tr>\n",
       "      <th>99220</th>\n",
       "      <td>f3897127253a9592a73be9bdfdf4ed7a</td>\n",
       "      <td>22ec9f0669f784db00fa86d035cf8602</td>\n",
       "      <td>5</td>\n",
       "      <td>NaN</td>\n",
       "      <td>NaN</td>\n",
       "      <td>2017-12-09 00:00:00</td>\n",
       "      <td>2017-12-11 20:06:42</td>\n",
       "      <td>0</td>\n",
       "    </tr>\n",
       "    <tr>\n",
       "      <th>99221</th>\n",
       "      <td>b3de70c89b1510c4cd3d0649fd302472</td>\n",
       "      <td>55d4004744368f5571d1f590031933e4</td>\n",
       "      <td>5</td>\n",
       "      <td>NaN</td>\n",
       "      <td>Excelente mochila, entrega super rápida. Super...</td>\n",
       "      <td>2018-03-22 00:00:00</td>\n",
       "      <td>2018-03-23 09:10:43</td>\n",
       "      <td>0</td>\n",
       "    </tr>\n",
       "    <tr>\n",
       "      <th>99222</th>\n",
       "      <td>1adeb9d84d72fe4e337617733eb85149</td>\n",
       "      <td>7725825d039fc1f0ceb7635e3f7d9206</td>\n",
       "      <td>4</td>\n",
       "      <td>NaN</td>\n",
       "      <td>NaN</td>\n",
       "      <td>2018-07-01 00:00:00</td>\n",
       "      <td>2018-07-02 12:59:13</td>\n",
       "      <td>0</td>\n",
       "    </tr>\n",
       "    <tr>\n",
       "      <th>99223</th>\n",
       "      <td>efe49f1d6f951dd88b51e6ccd4cc548f</td>\n",
       "      <td>90531360ecb1eec2a1fbb265a0db0508</td>\n",
       "      <td>1</td>\n",
       "      <td>NaN</td>\n",
       "      <td>meu produto chegou e ja tenho que devolver, po...</td>\n",
       "      <td>2017-07-03 00:00:00</td>\n",
       "      <td>2017-07-03 21:01:49</td>\n",
       "      <td>100</td>\n",
       "    </tr>\n",
       "  </tbody>\n",
       "</table>\n",
       "<p>99224 rows × 8 columns</p>\n",
       "</div>"
      ],
      "text/plain": [
       "                              review_id                          order_id  \\\n",
       "0      7bc2406110b926393aa56f80a40eba40  73fc7af87114b39712e6da79b0a377eb   \n",
       "1      80e641a11e56f04c1ad469d5645fdfde  a548910a1c6147796b98fdf73dbeba33   \n",
       "2      228ce5500dc1d8e020d8d1322874b6f0  f9e4b658b201a9f2ecdecbb34bed034b   \n",
       "3      e64fb393e7b32834bb789ff8bb30750e  658677c97b385a9be170737859d3511b   \n",
       "4      f7c4243c7fe1938f181bec41a392bdeb  8e6bfb81e283fa7e4f11123a3fb894f1   \n",
       "...                                 ...                               ...   \n",
       "99219  574ed12dd733e5fa530cfd4bbf39d7c9  2a8c23fee101d4d5662fa670396eb8da   \n",
       "99220  f3897127253a9592a73be9bdfdf4ed7a  22ec9f0669f784db00fa86d035cf8602   \n",
       "99221  b3de70c89b1510c4cd3d0649fd302472  55d4004744368f5571d1f590031933e4   \n",
       "99222  1adeb9d84d72fe4e337617733eb85149  7725825d039fc1f0ceb7635e3f7d9206   \n",
       "99223  efe49f1d6f951dd88b51e6ccd4cc548f  90531360ecb1eec2a1fbb265a0db0508   \n",
       "\n",
       "       review_score review_comment_title  \\\n",
       "0                 4                  NaN   \n",
       "1                 5                  NaN   \n",
       "2                 5                  NaN   \n",
       "3                 5                  NaN   \n",
       "4                 5                  NaN   \n",
       "...             ...                  ...   \n",
       "99219             5                  NaN   \n",
       "99220             5                  NaN   \n",
       "99221             5                  NaN   \n",
       "99222             4                  NaN   \n",
       "99223             1                  NaN   \n",
       "\n",
       "                                  review_comment_message review_creation_date  \\\n",
       "0                                                    NaN  2018-01-18 00:00:00   \n",
       "1                                                    NaN  2018-03-10 00:00:00   \n",
       "2                                                    NaN  2018-02-17 00:00:00   \n",
       "3                  Recebi bem antes do prazo estipulado.  2017-04-21 00:00:00   \n",
       "4      Parabéns lojas lannister adorei comprar pela I...  2018-03-01 00:00:00   \n",
       "...                                                  ...                  ...   \n",
       "99219                                                NaN  2018-07-07 00:00:00   \n",
       "99220                                                NaN  2017-12-09 00:00:00   \n",
       "99221  Excelente mochila, entrega super rápida. Super...  2018-03-22 00:00:00   \n",
       "99222                                                NaN  2018-07-01 00:00:00   \n",
       "99223  meu produto chegou e ja tenho que devolver, po...  2017-07-03 00:00:00   \n",
       "\n",
       "      review_answer_timestamp  cost_of_reviews  \n",
       "0         2018-01-18 21:46:59                0  \n",
       "1         2018-03-11 03:05:13                0  \n",
       "2         2018-02-18 14:36:24                0  \n",
       "3         2017-04-21 22:02:06                0  \n",
       "4         2018-03-02 10:26:53                0  \n",
       "...                       ...              ...  \n",
       "99219     2018-07-14 17:18:30                0  \n",
       "99220     2017-12-11 20:06:42                0  \n",
       "99221     2018-03-23 09:10:43                0  \n",
       "99222     2018-07-02 12:59:13                0  \n",
       "99223     2017-07-03 21:01:49              100  \n",
       "\n",
       "[99224 rows x 8 columns]"
      ]
     },
     "execution_count": 146,
     "metadata": {},
     "output_type": "execute_result"
    }
   ],
   "source": [
    "reviews_df = data[\"order_reviews\"]"
   ]
  },
  {
   "cell_type": "code",
   "execution_count": 9,
   "metadata": {},
   "outputs": [
    {
     "name": "stdout",
     "output_type": "stream",
     "text": [
      "0      76470\n",
      "100    11424\n",
      "40      8179\n",
      "50      3151\n",
      "Name: cost_of_reviews, dtype: int64\n",
      "5    57328\n",
      "4    19142\n",
      "1    11424\n",
      "3     8179\n",
      "2     3151\n",
      "Name: review_score, dtype: int64\n",
      "review_id                  98410\n",
      "order_id                   98673\n",
      "review_score                   5\n",
      "review_comment_title        4527\n",
      "review_comment_message     36159\n",
      "review_creation_date         636\n",
      "review_answer_timestamp    98248\n",
      "cost_of_reviews                4\n",
      "dtype: int64\n"
     ]
    },
    {
     "data": {
      "text/plain": [
       "1627110"
      ]
     },
     "execution_count": 9,
     "metadata": {},
     "output_type": "execute_result"
    }
   ],
   "source": [
    "reviews_df[\"cost_of_reviews\"] = reviews_df[\"review_score\"].replace([1,2,3,4,5],[100,50,40,0,0])\n",
    "print(reviews_df[\"cost_of_reviews\"].value_counts())\n",
    "print(reviews_df[\"review_score\"].value_counts())\n",
    "print(reviews_df.nunique())\n",
    "reviews_df[\"cost_of_reviews\"].sum()"
   ]
  },
  {
   "cell_type": "code",
   "execution_count": 10,
   "metadata": {},
   "outputs": [
    {
     "name": "stdout",
     "output_type": "stream",
     "text": [
      "(112650, 2)\n",
      "(100010, 2)\n"
     ]
    }
   ],
   "source": [
    "order_items_df = data[\"order_items\"]\n",
    "fil_order_items_df = order_items_df.loc[:,[\"order_id\",\"seller_id\"]]\n",
    "print(fil_order_items_df.shape)\n",
    "fil_order_items_df = fil_order_items_df.drop_duplicates()\n",
    "print(fil_order_items_df.shape)"
   ]
  },
  {
   "cell_type": "code",
   "execution_count": 11,
   "metadata": {},
   "outputs": [
    {
     "name": "stdout",
     "output_type": "stream",
     "text": [
      "1632150.0\n",
      "100572\n"
     ]
    }
   ],
   "source": [
    "merged_df = fil_order_items_df.merge(reviews_df, how=\"left\", on=\"order_id\")\n",
    "print(merged_df[\"cost_of_reviews\"].sum())\n",
    "print(merged_df[\"order_id\"].count())"
   ]
  },
  {
   "cell_type": "code",
   "execution_count": 12,
   "metadata": {},
   "outputs": [
    {
     "data": {
      "text/plain": [
       "review_score        407948.0\n",
       "cost_of_reviews    1632150.0\n",
       "dtype: float64"
      ]
     },
     "execution_count": 12,
     "metadata": {},
     "output_type": "execute_result"
    }
   ],
   "source": [
    "agg_sellers_df = merged_df.groupby(\"seller_id\").sum()\n",
    "agg_sellers_df.sum()"
   ]
  },
  {
   "cell_type": "code",
   "execution_count": 13,
   "metadata": {},
   "outputs": [],
   "source": [
    "seller_df_v2 = seller_df.merge(agg_sellers_df[\"cost_of_reviews\"], how=\"left\", on=\"seller_id\")\n",
    "seller_df_v2[\"profits\"] = seller_df_v2[\"revenues\"]-seller_df_v2[\"cost_of_reviews\"]"
   ]
  },
  {
   "cell_type": "code",
   "execution_count": 14,
   "metadata": {
    "scrolled": true
   },
   "outputs": [
    {
     "name": "stderr",
     "output_type": "stream",
     "text": [
      "/tmp/ipykernel_2595/125609497.py:1: FutureWarning: Dropping of nuisance columns in DataFrame reductions (with 'numeric_only=None') is deprecated; in a future version this will raise TypeError.  Select only valid columns before calling the reduction.\n",
      "  seller_df_v2.sum()\n"
     ]
    },
    {
     "data": {
      "text/plain": [
       "seller_id              3442f8959a84dea7ee197c632cb2df15d1b65fc7debc33...\n",
       "seller_city            campinasmogi guacurio de janeirosao paulobraga...\n",
       "seller_state           SPSPRJSPSPRJPESPSPPRGOSPSPSPSCBASCDFBASPSPSPSP...\n",
       "delay_to_carrier                                             1144.182582\n",
       "wait_time                                                    36017.65103\n",
       "months_on_olist                                                  17878.0\n",
       "n_orders                                                           99841\n",
       "quantity                                                          112441\n",
       "quantity_per_order                                           3433.819697\n",
       "sales                                                        13555784.44\n",
       "share_of_five_stars                                          1748.535826\n",
       "share_of_one_stars                                            376.310285\n",
       "review_score                                                12090.288256\n",
       "revenues                                                     2785818.444\n",
       "cost_of_reviews                                                1618210.0\n",
       "profits                                                      1167608.444\n",
       "dtype: object"
      ]
     },
     "execution_count": 14,
     "metadata": {},
     "output_type": "execute_result"
    }
   ],
   "source": [
    "seller_df_v2.sum()"
   ]
  },
  {
   "cell_type": "code",
   "execution_count": null,
   "metadata": {},
   "outputs": [],
   "source": [
    "seller_df_v2[\"order\"]"
   ]
  },
  {
   "cell_type": "markdown",
   "metadata": {},
   "source": [
    "### 2.2 What-if Analysis"
   ]
  },
  {
   "cell_type": "markdown",
   "metadata": {},
   "source": [
    "👉 Time to perform the actual analysis, here are our steps:  \n",
    "\n",
    "1️⃣ Write a function that will calculate IT costs based on two parameters: number of sellers and number of items.\n",
    "\n",
    "2️⃣ Load the sellers data and sort them by decreasing profits (before IT costs).\n",
    "\n",
    "3️⃣ Calculate profits:\n",
    "   - Calculate the cumulative profits for each row.\n",
    "   - Calculate the cumulative IT costs for each row using the function you defined before.\n",
    "   - Calculate the cumulative net profit for each row.\n",
    "\n",
    "4️⃣ Plot your results, and analyze them.\n",
    "\n",
    "5️⃣ Determine the optimum number of sellers to keep, based on profits before and after IT costs. (Hint: look up `np.argmax`). What would have been the impact on:\n",
    "   - Net profit after IT costs?\n",
    "   - Net profit before IT costs\n",
    "   - IT costs?\n",
    "   - Total revenues?\n",
    "   - Number of sellers?\n",
    "   - Number of items sold?\n",
    "\n",
    "6️⃣ How important were the IT costs in your analysis?"
   ]
  },
  {
   "cell_type": "code",
   "execution_count": 15,
   "metadata": {},
   "outputs": [],
   "source": [
    "def IT_costs(num_sellers, num_items):\n",
    "    return 3157.27*np.sqrt(num_sellers)+ 978.23*np.sqrt(num_items)"
   ]
  },
  {
   "cell_type": "code",
   "execution_count": 16,
   "metadata": {
    "scrolled": true
   },
   "outputs": [
    {
     "data": {
      "text/html": [
       "<div>\n",
       "<style scoped>\n",
       "    .dataframe tbody tr th:only-of-type {\n",
       "        vertical-align: middle;\n",
       "    }\n",
       "\n",
       "    .dataframe tbody tr th {\n",
       "        vertical-align: top;\n",
       "    }\n",
       "\n",
       "    .dataframe thead th {\n",
       "        text-align: right;\n",
       "    }\n",
       "</style>\n",
       "<table border=\"1\" class=\"dataframe\">\n",
       "  <thead>\n",
       "    <tr style=\"text-align: right;\">\n",
       "      <th></th>\n",
       "      <th>index</th>\n",
       "      <th>seller_id</th>\n",
       "      <th>seller_city</th>\n",
       "      <th>seller_state</th>\n",
       "      <th>delay_to_carrier</th>\n",
       "      <th>wait_time</th>\n",
       "      <th>date_first_sale</th>\n",
       "      <th>date_last_sale</th>\n",
       "      <th>months_on_olist</th>\n",
       "      <th>n_orders</th>\n",
       "      <th>quantity</th>\n",
       "      <th>quantity_per_order</th>\n",
       "      <th>sales</th>\n",
       "      <th>share_of_five_stars</th>\n",
       "      <th>share_of_one_stars</th>\n",
       "      <th>review_score</th>\n",
       "      <th>revenues</th>\n",
       "      <th>cost_of_reviews</th>\n",
       "      <th>profits</th>\n",
       "    </tr>\n",
       "  </thead>\n",
       "  <tbody>\n",
       "    <tr>\n",
       "      <th>0</th>\n",
       "      <td>868</td>\n",
       "      <td>53243585a1d6dc2643021fd1853d8905</td>\n",
       "      <td>lauro de freitas</td>\n",
       "      <td>BA</td>\n",
       "      <td>0.0</td>\n",
       "      <td>13.374429</td>\n",
       "      <td>2017-08-28 18:44:58</td>\n",
       "      <td>2018-08-21 16:35:26</td>\n",
       "      <td>12.0</td>\n",
       "      <td>358</td>\n",
       "      <td>410</td>\n",
       "      <td>1.145251</td>\n",
       "      <td>222776.05</td>\n",
       "      <td>0.514706</td>\n",
       "      <td>0.100490</td>\n",
       "      <td>4.075980</td>\n",
       "      <td>23237.605</td>\n",
       "      <td>5170.0</td>\n",
       "      <td>18067.605</td>\n",
       "    </tr>\n",
       "    <tr>\n",
       "      <th>1</th>\n",
       "      <td>67</td>\n",
       "      <td>7e93a43ef30c4f03f38b393420bc753a</td>\n",
       "      <td>barueri</td>\n",
       "      <td>SP</td>\n",
       "      <td>0.0</td>\n",
       "      <td>11.335141</td>\n",
       "      <td>2016-10-08 03:19:09</td>\n",
       "      <td>2018-07-14 21:25:19</td>\n",
       "      <td>21.0</td>\n",
       "      <td>336</td>\n",
       "      <td>340</td>\n",
       "      <td>1.011905</td>\n",
       "      <td>176431.87</td>\n",
       "      <td>0.628319</td>\n",
       "      <td>0.103245</td>\n",
       "      <td>4.206490</td>\n",
       "      <td>19323.187</td>\n",
       "      <td>4700.0</td>\n",
       "      <td>14623.187</td>\n",
       "    </tr>\n",
       "    <tr>\n",
       "      <th>2</th>\n",
       "      <td>534</td>\n",
       "      <td>fa1c13f2614d7b5c4749cbc52fecda94</td>\n",
       "      <td>sumare</td>\n",
       "      <td>SP</td>\n",
       "      <td>0.0</td>\n",
       "      <td>13.341871</td>\n",
       "      <td>2017-01-07 20:55:10</td>\n",
       "      <td>2018-08-29 10:04:16</td>\n",
       "      <td>20.0</td>\n",
       "      <td>585</td>\n",
       "      <td>586</td>\n",
       "      <td>1.001709</td>\n",
       "      <td>194042.03</td>\n",
       "      <td>0.676976</td>\n",
       "      <td>0.085911</td>\n",
       "      <td>4.340206</td>\n",
       "      <td>21004.203</td>\n",
       "      <td>6510.0</td>\n",
       "      <td>14494.203</td>\n",
       "    </tr>\n",
       "    <tr>\n",
       "      <th>3</th>\n",
       "      <td>2151</td>\n",
       "      <td>edb1ef5e36e0c8cd84eb3c9b003e486d</td>\n",
       "      <td>teresopolis</td>\n",
       "      <td>RJ</td>\n",
       "      <td>0.0</td>\n",
       "      <td>11.709806</td>\n",
       "      <td>2017-09-30 09:49:22</td>\n",
       "      <td>2018-08-20 19:30:10</td>\n",
       "      <td>11.0</td>\n",
       "      <td>166</td>\n",
       "      <td>175</td>\n",
       "      <td>1.054217</td>\n",
       "      <td>79284.55</td>\n",
       "      <td>0.702857</td>\n",
       "      <td>0.062857</td>\n",
       "      <td>4.434286</td>\n",
       "      <td>8808.455</td>\n",
       "      <td>1520.0</td>\n",
       "      <td>7288.455</td>\n",
       "    </tr>\n",
       "    <tr>\n",
       "      <th>4</th>\n",
       "      <td>2830</td>\n",
       "      <td>46dc3b2cc0980fb8ec44634e21d2718e</td>\n",
       "      <td>rio de janeiro</td>\n",
       "      <td>RJ</td>\n",
       "      <td>0.0</td>\n",
       "      <td>11.800424</td>\n",
       "      <td>2016-10-06 15:44:00</td>\n",
       "      <td>2018-08-17 22:49:38</td>\n",
       "      <td>22.0</td>\n",
       "      <td>521</td>\n",
       "      <td>542</td>\n",
       "      <td>1.040307</td>\n",
       "      <td>128111.19</td>\n",
       "      <td>0.626168</td>\n",
       "      <td>0.115888</td>\n",
       "      <td>4.181308</td>\n",
       "      <td>14571.119</td>\n",
       "      <td>7500.0</td>\n",
       "      <td>7071.119</td>\n",
       "    </tr>\n",
       "    <tr>\n",
       "      <th>...</th>\n",
       "      <td>...</td>\n",
       "      <td>...</td>\n",
       "      <td>...</td>\n",
       "      <td>...</td>\n",
       "      <td>...</td>\n",
       "      <td>...</td>\n",
       "      <td>...</td>\n",
       "      <td>...</td>\n",
       "      <td>...</td>\n",
       "      <td>...</td>\n",
       "      <td>...</td>\n",
       "      <td>...</td>\n",
       "      <td>...</td>\n",
       "      <td>...</td>\n",
       "      <td>...</td>\n",
       "      <td>...</td>\n",
       "      <td>...</td>\n",
       "      <td>...</td>\n",
       "      <td>...</td>\n",
       "    </tr>\n",
       "    <tr>\n",
       "      <th>2962</th>\n",
       "      <td>315</td>\n",
       "      <td>8b321bb669392f5163d04c59e235e066</td>\n",
       "      <td>sao paulo</td>\n",
       "      <td>SP</td>\n",
       "      <td>0.0</td>\n",
       "      <td>12.616899</td>\n",
       "      <td>2017-10-27 16:31:30</td>\n",
       "      <td>2018-08-21 17:08:38</td>\n",
       "      <td>10.0</td>\n",
       "      <td>943</td>\n",
       "      <td>1018</td>\n",
       "      <td>1.079533</td>\n",
       "      <td>17535.69</td>\n",
       "      <td>0.546351</td>\n",
       "      <td>0.130178</td>\n",
       "      <td>3.995069</td>\n",
       "      <td>2553.569</td>\n",
       "      <td>15440.0</td>\n",
       "      <td>-12886.431</td>\n",
       "    </tr>\n",
       "    <tr>\n",
       "      <th>2963</th>\n",
       "      <td>945</td>\n",
       "      <td>ea8482cd71df3c1969d7b9473ff13abc</td>\n",
       "      <td>sao paulo</td>\n",
       "      <td>SP</td>\n",
       "      <td>0.0</td>\n",
       "      <td>13.315562</td>\n",
       "      <td>2017-08-16 15:15:26</td>\n",
       "      <td>2018-08-25 02:45:21</td>\n",
       "      <td>12.0</td>\n",
       "      <td>1146</td>\n",
       "      <td>1203</td>\n",
       "      <td>1.049738</td>\n",
       "      <td>37177.52</td>\n",
       "      <td>0.517962</td>\n",
       "      <td>0.124478</td>\n",
       "      <td>3.953216</td>\n",
       "      <td>4677.752</td>\n",
       "      <td>20220.0</td>\n",
       "      <td>-15542.248</td>\n",
       "    </tr>\n",
       "    <tr>\n",
       "      <th>2964</th>\n",
       "      <td>1357</td>\n",
       "      <td>cc419e0650a3c5ba77189a1882b7556a</td>\n",
       "      <td>santo andre</td>\n",
       "      <td>SP</td>\n",
       "      <td>0.0</td>\n",
       "      <td>11.539753</td>\n",
       "      <td>2017-02-02 17:10:21</td>\n",
       "      <td>2018-08-28 03:45:15</td>\n",
       "      <td>19.0</td>\n",
       "      <td>1706</td>\n",
       "      <td>1775</td>\n",
       "      <td>1.040445</td>\n",
       "      <td>104288.42</td>\n",
       "      <td>0.581447</td>\n",
       "      <td>0.118719</td>\n",
       "      <td>4.069575</td>\n",
       "      <td>11948.842</td>\n",
       "      <td>29530.0</td>\n",
       "      <td>-17581.158</td>\n",
       "    </tr>\n",
       "    <tr>\n",
       "      <th>2965</th>\n",
       "      <td>2358</td>\n",
       "      <td>4a3ca9315b744ce9f8e9374361493884</td>\n",
       "      <td>ibitinga</td>\n",
       "      <td>SP</td>\n",
       "      <td>0.0</td>\n",
       "      <td>14.416471</td>\n",
       "      <td>2017-01-08 09:45:12</td>\n",
       "      <td>2018-08-27 11:04:18</td>\n",
       "      <td>20.0</td>\n",
       "      <td>1806</td>\n",
       "      <td>1987</td>\n",
       "      <td>1.100221</td>\n",
       "      <td>200472.92</td>\n",
       "      <td>0.477319</td>\n",
       "      <td>0.148185</td>\n",
       "      <td>3.803931</td>\n",
       "      <td>21647.292</td>\n",
       "      <td>39400.0</td>\n",
       "      <td>-17752.708</td>\n",
       "    </tr>\n",
       "    <tr>\n",
       "      <th>2966</th>\n",
       "      <td>769</td>\n",
       "      <td>6560211a19b47992c3666cc44a7e94c0</td>\n",
       "      <td>sao paulo</td>\n",
       "      <td>SP</td>\n",
       "      <td>0.0</td>\n",
       "      <td>9.539486</td>\n",
       "      <td>2017-02-17 07:45:11</td>\n",
       "      <td>2018-08-29 09:25:12</td>\n",
       "      <td>18.0</td>\n",
       "      <td>1854</td>\n",
       "      <td>2033</td>\n",
       "      <td>1.096548</td>\n",
       "      <td>123304.83</td>\n",
       "      <td>0.506931</td>\n",
       "      <td>0.132178</td>\n",
       "      <td>3.909406</td>\n",
       "      <td>13770.483</td>\n",
       "      <td>35290.0</td>\n",
       "      <td>-21519.517</td>\n",
       "    </tr>\n",
       "  </tbody>\n",
       "</table>\n",
       "<p>2967 rows × 19 columns</p>\n",
       "</div>"
      ],
      "text/plain": [
       "      index                         seller_id       seller_city seller_state  \\\n",
       "0       868  53243585a1d6dc2643021fd1853d8905  lauro de freitas           BA   \n",
       "1        67  7e93a43ef30c4f03f38b393420bc753a           barueri           SP   \n",
       "2       534  fa1c13f2614d7b5c4749cbc52fecda94            sumare           SP   \n",
       "3      2151  edb1ef5e36e0c8cd84eb3c9b003e486d       teresopolis           RJ   \n",
       "4      2830  46dc3b2cc0980fb8ec44634e21d2718e    rio de janeiro           RJ   \n",
       "...     ...                               ...               ...          ...   \n",
       "2962    315  8b321bb669392f5163d04c59e235e066         sao paulo           SP   \n",
       "2963    945  ea8482cd71df3c1969d7b9473ff13abc         sao paulo           SP   \n",
       "2964   1357  cc419e0650a3c5ba77189a1882b7556a       santo andre           SP   \n",
       "2965   2358  4a3ca9315b744ce9f8e9374361493884          ibitinga           SP   \n",
       "2966    769  6560211a19b47992c3666cc44a7e94c0         sao paulo           SP   \n",
       "\n",
       "      delay_to_carrier  wait_time     date_first_sale      date_last_sale  \\\n",
       "0                  0.0  13.374429 2017-08-28 18:44:58 2018-08-21 16:35:26   \n",
       "1                  0.0  11.335141 2016-10-08 03:19:09 2018-07-14 21:25:19   \n",
       "2                  0.0  13.341871 2017-01-07 20:55:10 2018-08-29 10:04:16   \n",
       "3                  0.0  11.709806 2017-09-30 09:49:22 2018-08-20 19:30:10   \n",
       "4                  0.0  11.800424 2016-10-06 15:44:00 2018-08-17 22:49:38   \n",
       "...                ...        ...                 ...                 ...   \n",
       "2962               0.0  12.616899 2017-10-27 16:31:30 2018-08-21 17:08:38   \n",
       "2963               0.0  13.315562 2017-08-16 15:15:26 2018-08-25 02:45:21   \n",
       "2964               0.0  11.539753 2017-02-02 17:10:21 2018-08-28 03:45:15   \n",
       "2965               0.0  14.416471 2017-01-08 09:45:12 2018-08-27 11:04:18   \n",
       "2966               0.0   9.539486 2017-02-17 07:45:11 2018-08-29 09:25:12   \n",
       "\n",
       "      months_on_olist  n_orders  quantity  quantity_per_order      sales  \\\n",
       "0                12.0       358       410            1.145251  222776.05   \n",
       "1                21.0       336       340            1.011905  176431.87   \n",
       "2                20.0       585       586            1.001709  194042.03   \n",
       "3                11.0       166       175            1.054217   79284.55   \n",
       "4                22.0       521       542            1.040307  128111.19   \n",
       "...               ...       ...       ...                 ...        ...   \n",
       "2962             10.0       943      1018            1.079533   17535.69   \n",
       "2963             12.0      1146      1203            1.049738   37177.52   \n",
       "2964             19.0      1706      1775            1.040445  104288.42   \n",
       "2965             20.0      1806      1987            1.100221  200472.92   \n",
       "2966             18.0      1854      2033            1.096548  123304.83   \n",
       "\n",
       "      share_of_five_stars  share_of_one_stars  review_score   revenues  \\\n",
       "0                0.514706            0.100490      4.075980  23237.605   \n",
       "1                0.628319            0.103245      4.206490  19323.187   \n",
       "2                0.676976            0.085911      4.340206  21004.203   \n",
       "3                0.702857            0.062857      4.434286   8808.455   \n",
       "4                0.626168            0.115888      4.181308  14571.119   \n",
       "...                   ...                 ...           ...        ...   \n",
       "2962             0.546351            0.130178      3.995069   2553.569   \n",
       "2963             0.517962            0.124478      3.953216   4677.752   \n",
       "2964             0.581447            0.118719      4.069575  11948.842   \n",
       "2965             0.477319            0.148185      3.803931  21647.292   \n",
       "2966             0.506931            0.132178      3.909406  13770.483   \n",
       "\n",
       "      cost_of_reviews    profits  \n",
       "0              5170.0  18067.605  \n",
       "1              4700.0  14623.187  \n",
       "2              6510.0  14494.203  \n",
       "3              1520.0   7288.455  \n",
       "4              7500.0   7071.119  \n",
       "...               ...        ...  \n",
       "2962          15440.0 -12886.431  \n",
       "2963          20220.0 -15542.248  \n",
       "2964          29530.0 -17581.158  \n",
       "2965          39400.0 -17752.708  \n",
       "2966          35290.0 -21519.517  \n",
       "\n",
       "[2967 rows x 19 columns]"
      ]
     },
     "execution_count": 16,
     "metadata": {},
     "output_type": "execute_result"
    }
   ],
   "source": [
    "seller_df_v2 = seller_df_v2.sort_values(by=[\"profits\"], ascending=False)\n",
    "seller_df_v2 = seller_df_v2.reset_index()\n",
    "seller_df_v2"
   ]
  },
  {
   "cell_type": "code",
   "execution_count": 26,
   "metadata": {},
   "outputs": [],
   "source": [
    "cum_profits = 0\n",
    "cum_profits_list = []\n",
    "for i in range(len(seller_df_v2.index)):\n",
    "    cum_profits += seller_df_v2.iloc[i,18]\n",
    "    cum_profits_list.append(cum_profits)\n",
    "cum_profits_df = pd.DataFrame(cum_profits_list)"
   ]
  },
  {
   "cell_type": "code",
   "execution_count": 113,
   "metadata": {},
   "outputs": [
    {
     "data": {
      "text/html": [
       "<div>\n",
       "<style scoped>\n",
       "    .dataframe tbody tr th:only-of-type {\n",
       "        vertical-align: middle;\n",
       "    }\n",
       "\n",
       "    .dataframe tbody tr th {\n",
       "        vertical-align: top;\n",
       "    }\n",
       "\n",
       "    .dataframe thead th {\n",
       "        text-align: right;\n",
       "    }\n",
       "</style>\n",
       "<table border=\"1\" class=\"dataframe\">\n",
       "  <thead>\n",
       "    <tr style=\"text-align: right;\">\n",
       "      <th></th>\n",
       "      <th>0</th>\n",
       "    </tr>\n",
       "  </thead>\n",
       "  <tbody>\n",
       "    <tr>\n",
       "      <th>0</th>\n",
       "      <td>23237.605</td>\n",
       "    </tr>\n",
       "    <tr>\n",
       "      <th>1</th>\n",
       "      <td>42560.792</td>\n",
       "    </tr>\n",
       "    <tr>\n",
       "      <th>2</th>\n",
       "      <td>63564.995</td>\n",
       "    </tr>\n",
       "    <tr>\n",
       "      <th>3</th>\n",
       "      <td>72373.450</td>\n",
       "    </tr>\n",
       "    <tr>\n",
       "      <th>4</th>\n",
       "      <td>86944.569</td>\n",
       "    </tr>\n",
       "    <tr>\n",
       "      <th>...</th>\n",
       "      <td>...</td>\n",
       "    </tr>\n",
       "    <tr>\n",
       "      <th>2962</th>\n",
       "      <td>2733774.075</td>\n",
       "    </tr>\n",
       "    <tr>\n",
       "      <th>2963</th>\n",
       "      <td>2738451.827</td>\n",
       "    </tr>\n",
       "    <tr>\n",
       "      <th>2964</th>\n",
       "      <td>2750400.669</td>\n",
       "    </tr>\n",
       "    <tr>\n",
       "      <th>2965</th>\n",
       "      <td>2772047.961</td>\n",
       "    </tr>\n",
       "    <tr>\n",
       "      <th>2966</th>\n",
       "      <td>2785818.444</td>\n",
       "    </tr>\n",
       "  </tbody>\n",
       "</table>\n",
       "<p>2967 rows × 1 columns</p>\n",
       "</div>"
      ],
      "text/plain": [
       "                0\n",
       "0       23237.605\n",
       "1       42560.792\n",
       "2       63564.995\n",
       "3       72373.450\n",
       "4       86944.569\n",
       "...           ...\n",
       "2962  2733774.075\n",
       "2963  2738451.827\n",
       "2964  2750400.669\n",
       "2965  2772047.961\n",
       "2966  2785818.444\n",
       "\n",
       "[2967 rows x 1 columns]"
      ]
     },
     "execution_count": 113,
     "metadata": {},
     "output_type": "execute_result"
    }
   ],
   "source": [
    "cum_revenues = 0\n",
    "cum_revenues_list = []\n",
    "for i in range(len(seller_df_v2.index)):\n",
    "    cum_revenues += seller_df_v2.iloc[i,16]\n",
    "    cum_revenues_list.append(cum_revenues)\n",
    "cum_revenues_df = pd.DataFrame(cum_revenues_list)\n",
    "cum_revenues_df"
   ]
  },
  {
   "cell_type": "code",
   "execution_count": 27,
   "metadata": {},
   "outputs": [
    {
     "data": {
      "text/html": [
       "<div>\n",
       "<style scoped>\n",
       "    .dataframe tbody tr th:only-of-type {\n",
       "        vertical-align: middle;\n",
       "    }\n",
       "\n",
       "    .dataframe tbody tr th {\n",
       "        vertical-align: top;\n",
       "    }\n",
       "\n",
       "    .dataframe thead th {\n",
       "        text-align: right;\n",
       "    }\n",
       "</style>\n",
       "<table border=\"1\" class=\"dataframe\">\n",
       "  <thead>\n",
       "    <tr style=\"text-align: right;\">\n",
       "      <th></th>\n",
       "      <th>0</th>\n",
       "    </tr>\n",
       "  </thead>\n",
       "  <tbody>\n",
       "    <tr>\n",
       "      <th>0</th>\n",
       "      <td>18067.605</td>\n",
       "    </tr>\n",
       "    <tr>\n",
       "      <th>1</th>\n",
       "      <td>32690.792</td>\n",
       "    </tr>\n",
       "    <tr>\n",
       "      <th>2</th>\n",
       "      <td>47184.995</td>\n",
       "    </tr>\n",
       "    <tr>\n",
       "      <th>3</th>\n",
       "      <td>54473.450</td>\n",
       "    </tr>\n",
       "    <tr>\n",
       "      <th>4</th>\n",
       "      <td>61544.569</td>\n",
       "    </tr>\n",
       "    <tr>\n",
       "      <th>...</th>\n",
       "      <td>...</td>\n",
       "    </tr>\n",
       "    <tr>\n",
       "      <th>2962</th>\n",
       "      <td>1240004.075</td>\n",
       "    </tr>\n",
       "    <tr>\n",
       "      <th>2963</th>\n",
       "      <td>1224461.827</td>\n",
       "    </tr>\n",
       "    <tr>\n",
       "      <th>2964</th>\n",
       "      <td>1206880.669</td>\n",
       "    </tr>\n",
       "    <tr>\n",
       "      <th>2965</th>\n",
       "      <td>1189127.961</td>\n",
       "    </tr>\n",
       "    <tr>\n",
       "      <th>2966</th>\n",
       "      <td>1167608.444</td>\n",
       "    </tr>\n",
       "  </tbody>\n",
       "</table>\n",
       "<p>2967 rows × 1 columns</p>\n",
       "</div>"
      ],
      "text/plain": [
       "                0\n",
       "0       18067.605\n",
       "1       32690.792\n",
       "2       47184.995\n",
       "3       54473.450\n",
       "4       61544.569\n",
       "...           ...\n",
       "2962  1240004.075\n",
       "2963  1224461.827\n",
       "2964  1206880.669\n",
       "2965  1189127.961\n",
       "2966  1167608.444\n",
       "\n",
       "[2967 rows x 1 columns]"
      ]
     },
     "execution_count": 27,
     "metadata": {},
     "output_type": "execute_result"
    }
   ],
   "source": [
    "cum_profits_df"
   ]
  },
  {
   "cell_type": "code",
   "execution_count": null,
   "metadata": {},
   "outputs": [],
   "source": []
  },
  {
   "cell_type": "code",
   "execution_count": 167,
   "metadata": {
    "scrolled": true
   },
   "outputs": [
    {
     "data": {
      "text/html": [
       "<div>\n",
       "<style scoped>\n",
       "    .dataframe tbody tr th:only-of-type {\n",
       "        vertical-align: middle;\n",
       "    }\n",
       "\n",
       "    .dataframe tbody tr th {\n",
       "        vertical-align: top;\n",
       "    }\n",
       "\n",
       "    .dataframe thead th {\n",
       "        text-align: right;\n",
       "    }\n",
       "</style>\n",
       "<table border=\"1\" class=\"dataframe\">\n",
       "  <thead>\n",
       "    <tr style=\"text-align: right;\">\n",
       "      <th></th>\n",
       "      <th>IT_Costs_cum</th>\n",
       "    </tr>\n",
       "  </thead>\n",
       "  <tbody>\n",
       "    <tr>\n",
       "      <th>0</th>\n",
       "      <td>21666.250198</td>\n",
       "    </tr>\n",
       "    <tr>\n",
       "      <th>1</th>\n",
       "      <td>30235.427537</td>\n",
       "    </tr>\n",
       "    <tr>\n",
       "      <th>2</th>\n",
       "      <td>40453.098644</td>\n",
       "    </tr>\n",
       "    <tr>\n",
       "      <th>3</th>\n",
       "      <td>43500.149220</td>\n",
       "    </tr>\n",
       "    <tr>\n",
       "      <th>4</th>\n",
       "      <td>50434.195838</td>\n",
       "    </tr>\n",
       "    <tr>\n",
       "      <th>...</th>\n",
       "      <td>...</td>\n",
       "    </tr>\n",
       "    <tr>\n",
       "      <th>2962</th>\n",
       "      <td>470708.348497</td>\n",
       "    </tr>\n",
       "    <tr>\n",
       "      <th>2963</th>\n",
       "      <td>472566.543064</td>\n",
       "    </tr>\n",
       "    <tr>\n",
       "      <th>2964</th>\n",
       "      <td>475298.151497</td>\n",
       "    </tr>\n",
       "    <tr>\n",
       "      <th>2965</th>\n",
       "      <td>478162.183095</td>\n",
       "    </tr>\n",
       "    <tr>\n",
       "      <th>2966</th>\n",
       "      <td>481074.512094</td>\n",
       "    </tr>\n",
       "  </tbody>\n",
       "</table>\n",
       "<p>2967 rows × 1 columns</p>\n",
       "</div>"
      ],
      "text/plain": [
       "       IT_Costs_cum\n",
       "0      21666.250198\n",
       "1      30235.427537\n",
       "2      40453.098644\n",
       "3      43500.149220\n",
       "4      50434.195838\n",
       "...             ...\n",
       "2962  470708.348497\n",
       "2963  472566.543064\n",
       "2964  475298.151497\n",
       "2965  478162.183095\n",
       "2966  481074.512094\n",
       "\n",
       "[2967 rows x 1 columns]"
      ]
     },
     "execution_count": 167,
     "metadata": {},
     "output_type": "execute_result"
    }
   ],
   "source": [
    "IT_costs_list = []\n",
    "num_items = 0\n",
    "IT_costs_cum = 0\n",
    "for i in range(len(seller_df_v2.index)):\n",
    "    num_items += seller_df_v2.iloc[i,9]\n",
    "    IT_costs_list.append(IT_costs(i+1,num_items))\n",
    "\n",
    "IT_costs_df = pd.DataFrame(IT_costs_list, columns=[\"IT_Costs_cum\"])\n",
    "IT_costs_df"
   ]
  },
  {
   "cell_type": "code",
   "execution_count": 30,
   "metadata": {},
   "outputs": [
    {
     "data": {
      "text/plain": [
       "count    2.967000e+03\n",
       "mean     8.806436e+05\n",
       "std      2.664305e+05\n",
       "min     -3.598645e+03\n",
       "25%      7.739893e+05\n",
       "50%      1.012539e+06\n",
       "75%      1.073629e+06\n",
       "max      1.084350e+06\n",
       "Name: profits_v2, dtype: float64"
      ]
     },
     "execution_count": 30,
     "metadata": {},
     "output_type": "execute_result"
    }
   ],
   "source": [
    "seller_df_v2[\"cum_profits\"] = cum_profits_df\n",
    "seller_df_v2[\"IT_Costs_cum\"] = IT_costs_df\n",
    "seller_df_v2[\"profits_v2\"] = seller_df_v2[\"cum_profits\"] - seller_df_v2[\"IT_Costs_cum\"] \n",
    "seller_df_v2[\"profits_v2\"].describe()"
   ]
  },
  {
   "cell_type": "code",
   "execution_count": 115,
   "metadata": {},
   "outputs": [
    {
     "data": {
      "text/plain": [
       "0       0.777516\n",
       "1       0.768096\n",
       "2       0.742311\n",
       "3       0.752672\n",
       "4       0.707860\n",
       "          ...   \n",
       "2962    0.453587\n",
       "2963    0.447137\n",
       "2964    0.438802\n",
       "2965    0.428971\n",
       "2966    0.419126\n",
       "Name: final_profit_margin, Length: 2967, dtype: float64"
      ]
     },
     "execution_count": 115,
     "metadata": {},
     "output_type": "execute_result"
    }
   ],
   "source": [
    "seller_df_v2[\"cum_revenues\"] = cum_revenues_df\n",
    "seller_df_v2[\"final_profit_margin\"] = seller_df_v2[\"cum_profits\"] / seller_df_v2[\"cum_revenues\"]\n",
    "seller_df_v2[\"final_profit_margin\"]"
   ]
  },
  {
   "cell_type": "code",
   "execution_count": 117,
   "metadata": {},
   "outputs": [],
   "source": [
    "fpm = seller_df_v2[\"final_profit_margin\"]"
   ]
  },
  {
   "cell_type": "code",
   "execution_count": 118,
   "metadata": {},
   "outputs": [
    {
     "data": {
      "text/plain": [
       "[<matplotlib.lines.Line2D at 0x7f8fcf0bddb0>]"
      ]
     },
     "execution_count": 118,
     "metadata": {},
     "output_type": "execute_result"
    },
    {
     "data": {
      "image/png": "[encoded data removed]",
      "text/plain": [
       "<Figure size 640x480 with 1 Axes>"
      ]
     },
     "metadata": {},
     "output_type": "display_data"
    }
   ],
   "source": [
    "plt.plot(num_sellers,fpm,label=\"final_profit_margin\")"
   ]
  },
  {
   "cell_type": "code",
   "execution_count": 123,
   "metadata": {},
   "outputs": [
    {
     "name": "stdout",
     "output_type": "stream",
     "text": [
      "0.6380359107941975\n",
      "18\n"
     ]
    }
   ],
   "source": [
    "print(seller_df_v2[\"final_profit_margin\"][2500:].max())\n",
    "print(seller_df_v2[\"final_profit_margin\"][2500:].argmax())"
   ]
  },
  {
   "cell_type": "code",
   "execution_count": 127,
   "metadata": {},
   "outputs": [
    {
     "data": {
      "text/plain": [
       "2113"
      ]
     },
     "execution_count": 127,
     "metadata": {},
     "output_type": "execute_result"
    }
   ],
   "source": [
    "seller_df_v2[\"profits_v2\"][]"
   ]
  },
  {
   "cell_type": "code",
   "execution_count": 31,
   "metadata": {},
   "outputs": [
    {
     "data": {
      "text/plain": [
       "2113"
      ]
     },
     "execution_count": 31,
     "metadata": {},
     "output_type": "execute_result"
    }
   ],
   "source": [
    "seller_df_v2[\"profits_v2\"].argmax()"
   ]
  },
  {
   "cell_type": "code",
   "execution_count": 36,
   "metadata": {},
   "outputs": [
    {
     "data": {
      "text/plain": [
       "2590"
      ]
     },
     "execution_count": 36,
     "metadata": {},
     "output_type": "execute_result"
    }
   ],
   "source": [
    "seller_df_v2[\"cum_profits\"].argmax()"
   ]
  },
  {
   "cell_type": "code",
   "execution_count": 39,
   "metadata": {},
   "outputs": [
    {
     "data": {
      "text/plain": [
       "index                                              2707\n",
       "seller_id              1588ac4010787100dddef64568f0ae35\n",
       "seller_city                                     maringa\n",
       "seller_state                                         PR\n",
       "delay_to_carrier                                    0.0\n",
       "wait_time                                     19.871011\n",
       "date_first_sale                     2017-12-22 20:50:08\n",
       "date_last_sale                      2018-01-26 17:03:36\n",
       "months_on_olist                                     1.0\n",
       "n_orders                                              3\n",
       "quantity                                              3\n",
       "quantity_per_order                                  1.0\n",
       "sales                                            599.97\n",
       "share_of_five_stars                            0.333333\n",
       "share_of_one_stars                             0.333333\n",
       "review_score                                        3.0\n",
       "revenues                                        139.997\n",
       "cost_of_reviews                                   140.0\n",
       "profits                                          -0.003\n",
       "cum_profits                                  1474071.06\n",
       "IT_Costs_cum                              401115.968812\n",
       "profits_v2                               1072955.091188\n",
       "Name: 2591, dtype: object"
      ]
     },
     "execution_count": 39,
     "metadata": {},
     "output_type": "execute_result"
    }
   ],
   "source": [
    "seller_df_v2.loc[2591,:]"
   ]
  },
  {
   "cell_type": "code",
   "execution_count": 37,
   "metadata": {},
   "outputs": [
    {
     "data": {
      "text/plain": [
       "<matplotlib.legend.Legend at 0x7f902ce68af0>"
      ]
     },
     "execution_count": 37,
     "metadata": {},
     "output_type": "execute_result"
    },
    {
     "data": {
      "image/png": "[encoded data removed]",
      "text/plain": [
       "<Figure size 640x480 with 1 Axes>"
      ]
     },
     "metadata": {},
     "output_type": "display_data"
    }
   ],
   "source": [
    "num_sellers = list(range(2967))\n",
    "y = list(round(seller_df_v2[\"profits_v2\"]))\n",
    "y\n",
    "\n",
    "plt.plot(num_sellers,y, label=\"final_profit\")\n",
    "\n",
    "z = list(round(seller_df_v2[\"cum_profits\"]))\n",
    "\n",
    "plt.plot(num_sellers,z,label=\"profit\")\n",
    "\n",
    "\n",
    "w = list(round(seller_df_v2[\"IT_Costs_cum\"]))\n",
    "\n",
    "plt.plot(num_sellers,w,label=\"IT_costs\")\n",
    "\n",
    "plt.legend()"
   ]
  },
  {
   "cell_type": "code",
   "execution_count": 40,
   "metadata": {},
   "outputs": [
    {
     "data": {
      "text/plain": [
       "<matplotlib.collections.PathCollection at 0x7f8fd6e2faf0>"
      ]
     },
     "execution_count": 40,
     "metadata": {},
     "output_type": "execute_result"
    },
    {
     "data": {
      "image/png": "[encoded data removed]",
      "text/plain": [
       "<Figure size 640x480 with 1 Axes>"
      ]
     },
     "metadata": {},
     "output_type": "display_data"
    }
   ],
   "source": [
    "k = list(round(seller_df_v2[\"profits\"]))\n",
    "\n",
    "plt.scatter(num_sellers,k,label=\"profits\")"
   ]
  },
  {
   "cell_type": "code",
   "execution_count": 44,
   "metadata": {},
   "outputs": [
    {
     "name": "stderr",
     "output_type": "stream",
     "text": [
      "/home/cazzi/.pyenv/versions/3.10.6/envs/lewagon/lib/python3.10/site-packages/seaborn/_decorators.py:36: FutureWarning: Pass the following variable as a keyword arg: x. From version 0.12, the only valid positional argument will be `data`, and passing other arguments without an explicit keyword will result in an error or misinterpretation.\n",
      "  warnings.warn(\n"
     ]
    },
    {
     "data": {
      "text/plain": [
       "<AxesSubplot:>"
      ]
     },
     "execution_count": 44,
     "metadata": {},
     "output_type": "execute_result"
    },
    {
     "data": {
      "image/png": "[encoded data removed]",
      "text/plain": [
       "<Figure size 640x480 with 1 Axes>"
      ]
     },
     "metadata": {},
     "output_type": "display_data"
    }
   ],
   "source": [
    "sns.boxplot(k)"
   ]
  },
  {
   "cell_type": "code",
   "execution_count": 58,
   "metadata": {
    "scrolled": true
   },
   "outputs": [
    {
     "data": {
      "text/plain": [
       "index                                              2239\n",
       "seller_id              77128dec4bec4878c37ab7d6169d6f26\n",
       "seller_city                                   sao paulo\n",
       "seller_state                                         SP\n",
       "delay_to_carrier                                    0.0\n",
       "wait_time                                     11.992465\n",
       "date_first_sale                     2017-03-15 20:14:39\n",
       "date_last_sale                      2017-03-15 20:14:39\n",
       "months_on_olist                                     0.0\n",
       "n_orders                                              1\n",
       "quantity                                              1\n",
       "quantity_per_order                                  1.0\n",
       "sales                                               6.5\n",
       "share_of_five_stars                                 1.0\n",
       "share_of_one_stars                                  NaN\n",
       "review_score                                        5.0\n",
       "revenues                                           0.65\n",
       "cost_of_reviews                                     0.0\n",
       "profits                                            0.65\n",
       "cum_profits                                 1474070.773\n",
       "IT_Costs_cum                              401038.017595\n",
       "profits_v2                               1073032.755405\n",
       "Name: 2589, dtype: object"
      ]
     },
     "execution_count": 58,
     "metadata": {},
     "output_type": "execute_result"
    }
   ],
   "source": [
    "seller_df_v2.iloc[2589,:]"
   ]
  },
  {
   "cell_type": "code",
   "execution_count": 51,
   "metadata": {},
   "outputs": [
    {
     "data": {
      "text/plain": [
       "count     2967.000000\n",
       "mean       393.531663\n",
       "std       1250.886133\n",
       "min     -21519.517000\n",
       "25%         20.980000\n",
       "50%        254.370000\n",
       "75%        691.700000\n",
       "max      18067.605000\n",
       "Name: profits, dtype: float64"
      ]
     },
     "execution_count": 51,
     "metadata": {},
     "output_type": "execute_result"
    }
   ],
   "source": [
    "seller_df_v2[\"profits\"].describe()"
   ]
  },
  {
   "cell_type": "code",
   "execution_count": 59,
   "metadata": {},
   "outputs": [],
   "source": []
  },
  {
   "cell_type": "code",
   "execution_count": 76,
   "metadata": {},
   "outputs": [
    {
     "data": {
      "text/html": [
       "<div>\n",
       "<style scoped>\n",
       "    .dataframe tbody tr th:only-of-type {\n",
       "        vertical-align: middle;\n",
       "    }\n",
       "\n",
       "    .dataframe tbody tr th {\n",
       "        vertical-align: top;\n",
       "    }\n",
       "\n",
       "    .dataframe thead th {\n",
       "        text-align: right;\n",
       "    }\n",
       "</style>\n",
       "<table border=\"1\" class=\"dataframe\">\n",
       "  <thead>\n",
       "    <tr style=\"text-align: right;\">\n",
       "      <th></th>\n",
       "      <th>index</th>\n",
       "      <th>seller_id</th>\n",
       "      <th>seller_city</th>\n",
       "      <th>seller_state</th>\n",
       "      <th>delay_to_carrier</th>\n",
       "      <th>wait_time</th>\n",
       "      <th>date_first_sale</th>\n",
       "      <th>date_last_sale</th>\n",
       "      <th>months_on_olist</th>\n",
       "      <th>n_orders</th>\n",
       "      <th>...</th>\n",
       "      <th>share_of_five_stars</th>\n",
       "      <th>share_of_one_stars</th>\n",
       "      <th>review_score</th>\n",
       "      <th>revenues</th>\n",
       "      <th>cost_of_reviews</th>\n",
       "      <th>profits</th>\n",
       "      <th>cum_profits</th>\n",
       "      <th>IT_Costs_cum</th>\n",
       "      <th>profits_v2</th>\n",
       "      <th>share_cost_of_reviews</th>\n",
       "    </tr>\n",
       "  </thead>\n",
       "  <tbody>\n",
       "    <tr>\n",
       "      <th>0</th>\n",
       "      <td>2965</td>\n",
       "      <td>4a3ca9315b744ce9f8e9374361493884</td>\n",
       "      <td>ibitinga</td>\n",
       "      <td>SP</td>\n",
       "      <td>0.0</td>\n",
       "      <td>14.416471</td>\n",
       "      <td>2017-01-08 09:45:12</td>\n",
       "      <td>2018-08-27 11:04:18</td>\n",
       "      <td>20.0</td>\n",
       "      <td>1806</td>\n",
       "      <td>...</td>\n",
       "      <td>0.477319</td>\n",
       "      <td>0.148185</td>\n",
       "      <td>3.803931</td>\n",
       "      <td>21647.292</td>\n",
       "      <td>39400.0</td>\n",
       "      <td>-17752.708</td>\n",
       "      <td>1189127.961</td>\n",
       "      <td>478162.183095</td>\n",
       "      <td>7.109658e+05</td>\n",
       "      <td>0.024348</td>\n",
       "    </tr>\n",
       "    <tr>\n",
       "      <th>1</th>\n",
       "      <td>2966</td>\n",
       "      <td>6560211a19b47992c3666cc44a7e94c0</td>\n",
       "      <td>sao paulo</td>\n",
       "      <td>SP</td>\n",
       "      <td>0.0</td>\n",
       "      <td>9.539486</td>\n",
       "      <td>2017-02-17 07:45:11</td>\n",
       "      <td>2018-08-29 09:25:12</td>\n",
       "      <td>18.0</td>\n",
       "      <td>1854</td>\n",
       "      <td>...</td>\n",
       "      <td>0.506931</td>\n",
       "      <td>0.132178</td>\n",
       "      <td>3.909406</td>\n",
       "      <td>13770.483</td>\n",
       "      <td>35290.0</td>\n",
       "      <td>-21519.517</td>\n",
       "      <td>1167608.444</td>\n",
       "      <td>481074.512094</td>\n",
       "      <td>6.865339e+05</td>\n",
       "      <td>0.021808</td>\n",
       "    </tr>\n",
       "    <tr>\n",
       "      <th>2</th>\n",
       "      <td>2964</td>\n",
       "      <td>cc419e0650a3c5ba77189a1882b7556a</td>\n",
       "      <td>santo andre</td>\n",
       "      <td>SP</td>\n",
       "      <td>0.0</td>\n",
       "      <td>11.539753</td>\n",
       "      <td>2017-02-02 17:10:21</td>\n",
       "      <td>2018-08-28 03:45:15</td>\n",
       "      <td>19.0</td>\n",
       "      <td>1706</td>\n",
       "      <td>...</td>\n",
       "      <td>0.581447</td>\n",
       "      <td>0.118719</td>\n",
       "      <td>4.069575</td>\n",
       "      <td>11948.842</td>\n",
       "      <td>29530.0</td>\n",
       "      <td>-17581.158</td>\n",
       "      <td>1206880.669</td>\n",
       "      <td>475298.151497</td>\n",
       "      <td>7.315825e+05</td>\n",
       "      <td>0.018249</td>\n",
       "    </tr>\n",
       "    <tr>\n",
       "      <th>3</th>\n",
       "      <td>2959</td>\n",
       "      <td>7c67e1448b00f6e969d365cea6b010ab</td>\n",
       "      <td>itaquaquecetuba</td>\n",
       "      <td>SP</td>\n",
       "      <td>0.0</td>\n",
       "      <td>22.392546</td>\n",
       "      <td>2017-01-26 22:55:10</td>\n",
       "      <td>2018-08-08 03:10:34</td>\n",
       "      <td>18.0</td>\n",
       "      <td>982</td>\n",
       "      <td>...</td>\n",
       "      <td>0.319678</td>\n",
       "      <td>0.236284</td>\n",
       "      <td>3.348208</td>\n",
       "      <td>20232.389</td>\n",
       "      <td>28250.0</td>\n",
       "      <td>-8017.611</td>\n",
       "      <td>1271834.193</td>\n",
       "      <td>465988.827161</td>\n",
       "      <td>8.058454e+05</td>\n",
       "      <td>0.017458</td>\n",
       "    </tr>\n",
       "    <tr>\n",
       "      <th>4</th>\n",
       "      <td>2961</td>\n",
       "      <td>1f50f920176fa81dab994f9023523100</td>\n",
       "      <td>sao jose do rio preto</td>\n",
       "      <td>SP</td>\n",
       "      <td>0.0</td>\n",
       "      <td>15.571831</td>\n",
       "      <td>2017-04-03 22:15:14</td>\n",
       "      <td>2018-08-28 03:45:18</td>\n",
       "      <td>17.0</td>\n",
       "      <td>1404</td>\n",
       "      <td>...</td>\n",
       "      <td>0.567288</td>\n",
       "      <td>0.145963</td>\n",
       "      <td>3.982402</td>\n",
       "      <td>12053.921</td>\n",
       "      <td>21980.0</td>\n",
       "      <td>-9926.079</td>\n",
       "      <td>1252890.506</td>\n",
       "      <td>469165.729304</td>\n",
       "      <td>7.837248e+05</td>\n",
       "      <td>0.013583</td>\n",
       "    </tr>\n",
       "    <tr>\n",
       "      <th>...</th>\n",
       "      <td>...</td>\n",
       "      <td>...</td>\n",
       "      <td>...</td>\n",
       "      <td>...</td>\n",
       "      <td>...</td>\n",
       "      <td>...</td>\n",
       "      <td>...</td>\n",
       "      <td>...</td>\n",
       "      <td>...</td>\n",
       "      <td>...</td>\n",
       "      <td>...</td>\n",
       "      <td>...</td>\n",
       "      <td>...</td>\n",
       "      <td>...</td>\n",
       "      <td>...</td>\n",
       "      <td>...</td>\n",
       "      <td>...</td>\n",
       "      <td>...</td>\n",
       "      <td>...</td>\n",
       "      <td>...</td>\n",
       "      <td>...</td>\n",
       "    </tr>\n",
       "    <tr>\n",
       "      <th>2962</th>\n",
       "      <td>2173</td>\n",
       "      <td>3b18f9856c6eb2413eafedb58e9eecd9</td>\n",
       "      <td>santo andre</td>\n",
       "      <td>SP</td>\n",
       "      <td>0.0</td>\n",
       "      <td>9.184120</td>\n",
       "      <td>2018-04-13 12:50:24</td>\n",
       "      <td>2018-04-13 12:50:24</td>\n",
       "      <td>0.0</td>\n",
       "      <td>1</td>\n",
       "      <td>...</td>\n",
       "      <td>1.000000</td>\n",
       "      <td>NaN</td>\n",
       "      <td>5.000000</td>\n",
       "      <td>31.500</td>\n",
       "      <td>0.0</td>\n",
       "      <td>31.500</td>\n",
       "      <td>1469417.317</td>\n",
       "      <td>386053.838925</td>\n",
       "      <td>1.083363e+06</td>\n",
       "      <td>0.000000</td>\n",
       "    </tr>\n",
       "    <tr>\n",
       "      <th>2963</th>\n",
       "      <td>1179</td>\n",
       "      <td>747e73c01a4593d4cf60dcf970fd2689</td>\n",
       "      <td>vitoria de santo antao</td>\n",
       "      <td>PE</td>\n",
       "      <td>0.0</td>\n",
       "      <td>10.688094</td>\n",
       "      <td>2018-03-01 09:09:14</td>\n",
       "      <td>2018-04-27 08:12:15</td>\n",
       "      <td>2.0</td>\n",
       "      <td>3</td>\n",
       "      <td>...</td>\n",
       "      <td>0.333333</td>\n",
       "      <td>NaN</td>\n",
       "      <td>4.333333</td>\n",
       "      <td>381.799</td>\n",
       "      <td>0.0</td>\n",
       "      <td>381.799</td>\n",
       "      <td>1280019.206</td>\n",
       "      <td>323363.811434</td>\n",
       "      <td>9.566554e+05</td>\n",
       "      <td>0.000000</td>\n",
       "    </tr>\n",
       "    <tr>\n",
       "      <th>2964</th>\n",
       "      <td>2170</td>\n",
       "      <td>c611f4ce9ce875bcc063fa97fd4d7d12</td>\n",
       "      <td>atibaia</td>\n",
       "      <td>SP</td>\n",
       "      <td>0.0</td>\n",
       "      <td>4.072801</td>\n",
       "      <td>2018-07-31 15:40:18</td>\n",
       "      <td>2018-07-31 15:40:18</td>\n",
       "      <td>0.0</td>\n",
       "      <td>1</td>\n",
       "      <td>...</td>\n",
       "      <td>NaN</td>\n",
       "      <td>NaN</td>\n",
       "      <td>4.000000</td>\n",
       "      <td>31.900</td>\n",
       "      <td>0.0</td>\n",
       "      <td>31.900</td>\n",
       "      <td>1469322.247</td>\n",
       "      <td>385940.212095</td>\n",
       "      <td>1.083382e+06</td>\n",
       "      <td>0.000000</td>\n",
       "    </tr>\n",
       "    <tr>\n",
       "      <th>2965</th>\n",
       "      <td>2169</td>\n",
       "      <td>eb9267cccc90f1b49c8d2f9887c7dd97</td>\n",
       "      <td>recife</td>\n",
       "      <td>PE</td>\n",
       "      <td>0.0</td>\n",
       "      <td>7.810868</td>\n",
       "      <td>2018-05-07 10:11:18</td>\n",
       "      <td>2018-05-07 10:11:18</td>\n",
       "      <td>0.0</td>\n",
       "      <td>1</td>\n",
       "      <td>...</td>\n",
       "      <td>1.000000</td>\n",
       "      <td>NaN</td>\n",
       "      <td>5.000000</td>\n",
       "      <td>31.990</td>\n",
       "      <td>0.0</td>\n",
       "      <td>31.990</td>\n",
       "      <td>1469290.347</td>\n",
       "      <td>385904.324153</td>\n",
       "      <td>1.083386e+06</td>\n",
       "      <td>0.000000</td>\n",
       "    </tr>\n",
       "    <tr>\n",
       "      <th>2966</th>\n",
       "      <td>1483</td>\n",
       "      <td>4a82c4af97ffc0fb2dc26bfdc03b1842</td>\n",
       "      <td>lagoa da prata</td>\n",
       "      <td>MG</td>\n",
       "      <td>0.0</td>\n",
       "      <td>12.739298</td>\n",
       "      <td>2017-05-30 19:25:17</td>\n",
       "      <td>2017-08-17 03:05:47</td>\n",
       "      <td>3.0</td>\n",
       "      <td>3</td>\n",
       "      <td>...</td>\n",
       "      <td>1.000000</td>\n",
       "      <td>NaN</td>\n",
       "      <td>5.000000</td>\n",
       "      <td>254.370</td>\n",
       "      <td>0.0</td>\n",
       "      <td>254.370</td>\n",
       "      <td>1374497.455</td>\n",
       "      <td>345267.209778</td>\n",
       "      <td>1.029230e+06</td>\n",
       "      <td>0.000000</td>\n",
       "    </tr>\n",
       "  </tbody>\n",
       "</table>\n",
       "<p>2967 rows × 23 columns</p>\n",
       "</div>"
      ],
      "text/plain": [
       "      index                         seller_id             seller_city  \\\n",
       "0      2965  4a3ca9315b744ce9f8e9374361493884                ibitinga   \n",
       "1      2966  6560211a19b47992c3666cc44a7e94c0               sao paulo   \n",
       "2      2964  cc419e0650a3c5ba77189a1882b7556a             santo andre   \n",
       "3      2959  7c67e1448b00f6e969d365cea6b010ab         itaquaquecetuba   \n",
       "4      2961  1f50f920176fa81dab994f9023523100   sao jose do rio preto   \n",
       "...     ...                               ...                     ...   \n",
       "2962   2173  3b18f9856c6eb2413eafedb58e9eecd9             santo andre   \n",
       "2963   1179  747e73c01a4593d4cf60dcf970fd2689  vitoria de santo antao   \n",
       "2964   2170  c611f4ce9ce875bcc063fa97fd4d7d12                 atibaia   \n",
       "2965   2169  eb9267cccc90f1b49c8d2f9887c7dd97                  recife   \n",
       "2966   1483  4a82c4af97ffc0fb2dc26bfdc03b1842          lagoa da prata   \n",
       "\n",
       "     seller_state  delay_to_carrier  wait_time     date_first_sale  \\\n",
       "0              SP               0.0  14.416471 2017-01-08 09:45:12   \n",
       "1              SP               0.0   9.539486 2017-02-17 07:45:11   \n",
       "2              SP               0.0  11.539753 2017-02-02 17:10:21   \n",
       "3              SP               0.0  22.392546 2017-01-26 22:55:10   \n",
       "4              SP               0.0  15.571831 2017-04-03 22:15:14   \n",
       "...           ...               ...        ...                 ...   \n",
       "2962           SP               0.0   9.184120 2018-04-13 12:50:24   \n",
       "2963           PE               0.0  10.688094 2018-03-01 09:09:14   \n",
       "2964           SP               0.0   4.072801 2018-07-31 15:40:18   \n",
       "2965           PE               0.0   7.810868 2018-05-07 10:11:18   \n",
       "2966           MG               0.0  12.739298 2017-05-30 19:25:17   \n",
       "\n",
       "          date_last_sale  months_on_olist  n_orders  ...  share_of_five_stars  \\\n",
       "0    2018-08-27 11:04:18             20.0      1806  ...             0.477319   \n",
       "1    2018-08-29 09:25:12             18.0      1854  ...             0.506931   \n",
       "2    2018-08-28 03:45:15             19.0      1706  ...             0.581447   \n",
       "3    2018-08-08 03:10:34             18.0       982  ...             0.319678   \n",
       "4    2018-08-28 03:45:18             17.0      1404  ...             0.567288   \n",
       "...                  ...              ...       ...  ...                  ...   \n",
       "2962 2018-04-13 12:50:24              0.0         1  ...             1.000000   \n",
       "2963 2018-04-27 08:12:15              2.0         3  ...             0.333333   \n",
       "2964 2018-07-31 15:40:18              0.0         1  ...                  NaN   \n",
       "2965 2018-05-07 10:11:18              0.0         1  ...             1.000000   \n",
       "2966 2017-08-17 03:05:47              3.0         3  ...             1.000000   \n",
       "\n",
       "      share_of_one_stars  review_score   revenues  cost_of_reviews    profits  \\\n",
       "0               0.148185      3.803931  21647.292          39400.0 -17752.708   \n",
       "1               0.132178      3.909406  13770.483          35290.0 -21519.517   \n",
       "2               0.118719      4.069575  11948.842          29530.0 -17581.158   \n",
       "3               0.236284      3.348208  20232.389          28250.0  -8017.611   \n",
       "4               0.145963      3.982402  12053.921          21980.0  -9926.079   \n",
       "...                  ...           ...        ...              ...        ...   \n",
       "2962                 NaN      5.000000     31.500              0.0     31.500   \n",
       "2963                 NaN      4.333333    381.799              0.0    381.799   \n",
       "2964                 NaN      4.000000     31.900              0.0     31.900   \n",
       "2965                 NaN      5.000000     31.990              0.0     31.990   \n",
       "2966                 NaN      5.000000    254.370              0.0    254.370   \n",
       "\n",
       "      cum_profits   IT_Costs_cum    profits_v2  share_cost_of_reviews  \n",
       "0     1189127.961  478162.183095  7.109658e+05               0.024348  \n",
       "1     1167608.444  481074.512094  6.865339e+05               0.021808  \n",
       "2     1206880.669  475298.151497  7.315825e+05               0.018249  \n",
       "3     1271834.193  465988.827161  8.058454e+05               0.017458  \n",
       "4     1252890.506  469165.729304  7.837248e+05               0.013583  \n",
       "...           ...            ...           ...                    ...  \n",
       "2962  1469417.317  386053.838925  1.083363e+06               0.000000  \n",
       "2963  1280019.206  323363.811434  9.566554e+05               0.000000  \n",
       "2964  1469322.247  385940.212095  1.083382e+06               0.000000  \n",
       "2965  1469290.347  385904.324153  1.083386e+06               0.000000  \n",
       "2966  1374497.455  345267.209778  1.029230e+06               0.000000  \n",
       "\n",
       "[2967 rows x 23 columns]"
      ]
     },
     "execution_count": 76,
     "metadata": {},
     "output_type": "execute_result"
    }
   ],
   "source": [
    "cost_of_review_analysis = seller_df_v2.copy()\n",
    "cost_of_review_analysis.drop(columns = \"index\",inplace = True)\n",
    "cost_of_review_analysis.sort_values(by=['cost_of_reviews'],ascending=False, inplace=True)\n",
    "sum_cost_of_reviews = cost_of_review_analysis[\"cost_of_reviews\"].sum()\n",
    "sum_cost_of_reviews\n",
    "cost_of_review_analysis[\"share_cost_of_reviews\"] = cost_of_review_analysis[\"cost_of_reviews\"] / sum_cost_of_reviews\n",
    "cost_of_review_analysis.reset_index(inplace=True)\n",
    "cost_of_review_analysis"
   ]
  },
  {
   "cell_type": "code",
   "execution_count": 78,
   "metadata": {},
   "outputs": [
    {
     "data": {
      "text/html": [
       "<div>\n",
       "<style scoped>\n",
       "    .dataframe tbody tr th:only-of-type {\n",
       "        vertical-align: middle;\n",
       "    }\n",
       "\n",
       "    .dataframe tbody tr th {\n",
       "        vertical-align: top;\n",
       "    }\n",
       "\n",
       "    .dataframe thead th {\n",
       "        text-align: right;\n",
       "    }\n",
       "</style>\n",
       "<table border=\"1\" class=\"dataframe\">\n",
       "  <thead>\n",
       "    <tr style=\"text-align: right;\">\n",
       "      <th></th>\n",
       "      <th>0</th>\n",
       "    </tr>\n",
       "  </thead>\n",
       "  <tbody>\n",
       "    <tr>\n",
       "      <th>0</th>\n",
       "      <td>0.024348</td>\n",
       "    </tr>\n",
       "    <tr>\n",
       "      <th>1</th>\n",
       "      <td>0.046156</td>\n",
       "    </tr>\n",
       "    <tr>\n",
       "      <th>2</th>\n",
       "      <td>0.064404</td>\n",
       "    </tr>\n",
       "    <tr>\n",
       "      <th>3</th>\n",
       "      <td>0.081862</td>\n",
       "    </tr>\n",
       "    <tr>\n",
       "      <th>4</th>\n",
       "      <td>0.095445</td>\n",
       "    </tr>\n",
       "    <tr>\n",
       "      <th>...</th>\n",
       "      <td>...</td>\n",
       "    </tr>\n",
       "    <tr>\n",
       "      <th>2962</th>\n",
       "      <td>1.000000</td>\n",
       "    </tr>\n",
       "    <tr>\n",
       "      <th>2963</th>\n",
       "      <td>1.000000</td>\n",
       "    </tr>\n",
       "    <tr>\n",
       "      <th>2964</th>\n",
       "      <td>1.000000</td>\n",
       "    </tr>\n",
       "    <tr>\n",
       "      <th>2965</th>\n",
       "      <td>1.000000</td>\n",
       "    </tr>\n",
       "    <tr>\n",
       "      <th>2966</th>\n",
       "      <td>1.000000</td>\n",
       "    </tr>\n",
       "  </tbody>\n",
       "</table>\n",
       "<p>2967 rows × 1 columns</p>\n",
       "</div>"
      ],
      "text/plain": [
       "             0\n",
       "0     0.024348\n",
       "1     0.046156\n",
       "2     0.064404\n",
       "3     0.081862\n",
       "4     0.095445\n",
       "...        ...\n",
       "2962  1.000000\n",
       "2963  1.000000\n",
       "2964  1.000000\n",
       "2965  1.000000\n",
       "2966  1.000000\n",
       "\n",
       "[2967 rows x 1 columns]"
      ]
     },
     "execution_count": 78,
     "metadata": {},
     "output_type": "execute_result"
    }
   ],
   "source": [
    "cum_reviewcosts = 0\n",
    "cum_reviewcosts_list = []\n",
    "for i in range(len(cost_of_review_analysis.index)):\n",
    "    cum_reviewcosts += cost_of_review_analysis.iloc[i,22]\n",
    "    cum_reviewcosts_list.append(cum_reviewcosts)\n",
    "cum_reviewcosts_df = pd.DataFrame(cum_reviewcosts_list)\n",
    "cum_reviewcosts_df"
   ]
  },
  {
   "cell_type": "code",
   "execution_count": 108,
   "metadata": {},
   "outputs": [
    {
     "data": {
      "text/plain": [
       "0    0.233505\n",
       "Name: 20, dtype: float64"
      ]
     },
     "execution_count": 108,
     "metadata": {},
     "output_type": "execute_result"
    }
   ],
   "source": [
    "cum_reviewcosts_df.iloc[20,:]"
   ]
  },
  {
   "cell_type": "code",
   "execution_count": 97,
   "metadata": {},
   "outputs": [
    {
     "data": {
      "text/plain": [
       "index                                                 928\n",
       "seller_id                0176f73cc1195f367f7b32db1e5b3aa8\n",
       "seller_city                                      ibitinga\n",
       "seller_state                                           SP\n",
       "delay_to_carrier                                      0.0\n",
       "wait_time                                       13.377644\n",
       "date_first_sale                       2017-11-16 17:52:46\n",
       "date_last_sale                        2018-08-15 03:15:30\n",
       "months_on_olist                                       9.0\n",
       "n_orders                                               38\n",
       "quantity                                               39\n",
       "quantity_per_order                               1.026316\n",
       "sales                                              4733.1\n",
       "share_of_five_stars                              0.589744\n",
       "share_of_one_stars                               0.102564\n",
       "review_score                                     4.025641\n",
       "revenues                                          1193.31\n",
       "cost_of_reviews                                     660.0\n",
       "profits                                            533.31\n",
       "cum_profits                                   1165947.105\n",
       "IT_Costs_cum                                297345.730545\n",
       "profits_v2                                  868601.374455\n",
       "share_cost_of_reviews                            0.000408\n",
       "Name: 473, dtype: object"
      ]
     },
     "execution_count": 97,
     "metadata": {},
     "output_type": "execute_result"
    }
   ],
   "source": [
    "cost_of_review_analysis.iloc[473,:]"
   ]
  },
  {
   "cell_type": "code",
   "execution_count": 143,
   "metadata": {},
   "outputs": [
    {
     "data": {
      "text/html": [
       "<div>\n",
       "<style scoped>\n",
       "    .dataframe tbody tr th:only-of-type {\n",
       "        vertical-align: middle;\n",
       "    }\n",
       "\n",
       "    .dataframe tbody tr th {\n",
       "        vertical-align: top;\n",
       "    }\n",
       "\n",
       "    .dataframe thead th {\n",
       "        text-align: right;\n",
       "    }\n",
       "</style>\n",
       "<table border=\"1\" class=\"dataframe\">\n",
       "  <thead>\n",
       "    <tr style=\"text-align: right;\">\n",
       "      <th></th>\n",
       "      <th>index</th>\n",
       "      <th>seller_id</th>\n",
       "      <th>seller_city</th>\n",
       "      <th>seller_state</th>\n",
       "      <th>delay_to_carrier</th>\n",
       "      <th>wait_time</th>\n",
       "      <th>date_first_sale</th>\n",
       "      <th>date_last_sale</th>\n",
       "      <th>months_on_olist</th>\n",
       "      <th>n_orders</th>\n",
       "      <th>...</th>\n",
       "      <th>review_score</th>\n",
       "      <th>revenues</th>\n",
       "      <th>cost_of_reviews</th>\n",
       "      <th>profits</th>\n",
       "      <th>cum_profits</th>\n",
       "      <th>IT_Costs_cum</th>\n",
       "      <th>profits_v2</th>\n",
       "      <th>profit margin</th>\n",
       "      <th>cum_revenues</th>\n",
       "      <th>final_profit_margin</th>\n",
       "    </tr>\n",
       "  </thead>\n",
       "  <tbody>\n",
       "    <tr>\n",
       "      <th>2966</th>\n",
       "      <td>769</td>\n",
       "      <td>6560211a19b47992c3666cc44a7e94c0</td>\n",
       "      <td>sao paulo</td>\n",
       "      <td>SP</td>\n",
       "      <td>0.0</td>\n",
       "      <td>9.539486</td>\n",
       "      <td>2017-02-17 07:45:11</td>\n",
       "      <td>2018-08-29 09:25:12</td>\n",
       "      <td>18.0</td>\n",
       "      <td>1854</td>\n",
       "      <td>...</td>\n",
       "      <td>3.909406</td>\n",
       "      <td>13770.483</td>\n",
       "      <td>35290.0</td>\n",
       "      <td>-21519.517</td>\n",
       "      <td>1167608.444</td>\n",
       "      <td>481074.512094</td>\n",
       "      <td>686533.931906</td>\n",
       "      <td>-1.562728</td>\n",
       "      <td>2785818.444</td>\n",
       "      <td>0.419126</td>\n",
       "    </tr>\n",
       "  </tbody>\n",
       "</table>\n",
       "<p>1 rows × 25 columns</p>\n",
       "</div>"
      ],
      "text/plain": [
       "      index                         seller_id seller_city seller_state  \\\n",
       "2966    769  6560211a19b47992c3666cc44a7e94c0   sao paulo           SP   \n",
       "\n",
       "      delay_to_carrier  wait_time     date_first_sale      date_last_sale  \\\n",
       "2966               0.0   9.539486 2017-02-17 07:45:11 2018-08-29 09:25:12   \n",
       "\n",
       "      months_on_olist  n_orders  ...  review_score   revenues  \\\n",
       "2966             18.0      1854  ...      3.909406  13770.483   \n",
       "\n",
       "      cost_of_reviews    profits  cum_profits   IT_Costs_cum     profits_v2  \\\n",
       "2966          35290.0 -21519.517  1167608.444  481074.512094  686533.931906   \n",
       "\n",
       "      profit margin  cum_revenues  final_profit_margin  \n",
       "2966      -1.562728   2785818.444             0.419126  \n",
       "\n",
       "[1 rows x 25 columns]"
      ]
     },
     "execution_count": 143,
     "metadata": {},
     "output_type": "execute_result"
    }
   ],
   "source": [
    "seller_df_v2[:][2966:2967]"
   ]
  },
  {
   "cell_type": "code",
   "execution_count": 175,
   "metadata": {},
   "outputs": [
    {
     "data": {
      "text/plain": [
       "1       475\n",
       "2       326\n",
       "3       216\n",
       "4       157\n",
       "5       142\n",
       "       ... \n",
       "102       1\n",
       "123       1\n",
       "388       1\n",
       "109       1\n",
       "1854      1\n",
       "Name: n_orders, Length: 251, dtype: int64"
      ]
     },
     "execution_count": 175,
     "metadata": {},
     "output_type": "execute_result"
    }
   ],
   "source": [
    "seller_df_v2[\"n_orders\"].value_counts()"
   ]
  },
  {
   "cell_type": "code",
   "execution_count": 197,
   "metadata": {},
   "outputs": [
    {
     "name": "stderr",
     "output_type": "stream",
     "text": [
      "/home/cazzi/.pyenv/versions/3.10.6/envs/lewagon/lib/python3.10/site-packages/seaborn/_decorators.py:36: FutureWarning: Pass the following variables as keyword args: x, y. From version 0.12, the only valid positional argument will be `data`, and passing other arguments without an explicit keyword will result in an error or misinterpretation.\n",
      "  warnings.warn(\n"
     ]
    },
    {
     "data": {
      "image/png": "[encoded data removed]",
      "text/plain": [
       "<Figure size 640x480 with 1 Axes>"
      ]
     },
     "metadata": {},
     "output_type": "display_data"
    }
   ],
   "source": [
    "review_score = list(np.linspace(1,5,1000))\n",
    "sales_fee = []\n",
    "for i in review_score:\n",
    "    sales_fee.append(dict_review[round(i)])\n",
    "\n",
    "sns.lineplot(review_score,sales_fee,x=\"review_score\", y=\"sales_fee\")\n",
    "plt.show()"
   ]
  },
  {
   "cell_type": "code",
   "execution_count": 219,
   "metadata": {},
   "outputs": [
    {
     "data": {
      "text/plain": [
       "[932066.6039999999, 957957.343]"
      ]
     },
     "execution_count": 219,
     "metadata": {},
     "output_type": "execute_result"
    }
   ],
   "source": [
    "fivestar_salles = seller_df_v2[round(seller_df_v2[\"review_score\"])==5][\"sales\"].sum()\n",
    "fivestar_salles_list = [fivestar_salles*0.9, fivestar_salles*(1-0.075)]\n",
    "our_revenues = [2785818.44, 2795921.50]\n",
    "\n",
    "fivestar_salles_list"
   ]
  },
  {
   "cell_type": "markdown",
   "metadata": {},
   "source": [
    "## 3. Investigate other Approaches 🕵️\n",
    "*(optional)*\n",
    "ideias:\n",
    "- alinhar estrutura de incentivos: dar desconto para quem tem boa avaliação e/ou tirar da plataforma quem tem baixa avaliação depois de muitas vendas\n",
    "\n",
    "- X% (ou Y vendedores) trazem um custo reputacional de R$ Z que representa um Z% da receita"
   ]
  },
  {
   "cell_type": "markdown",
   "metadata": {},
   "source": [
    "- Should Olist remove the worst performing products / categories from its marketplace entirely?\n",
    "- Should Olist remove only consistently underperforming sellers, after a honeymoon period of a few months?\n",
    "- Should Olist enforce sellers to include certain information on their product listings?\n",
    "- Should Olist ask customers for purchase confirmation at certain times of day?\n",
    "- Should Olist restrict seller/customer pairs between certain states to avoid delays?\n",
    "- Should Olist acquire new sellers, with some cost assumptions to be suggested?\n",
    "- ...\n"
   ]
  },
  {
   "cell_type": "markdown",
   "metadata": {},
   "source": [
    "## Your turn!"
   ]
  },
  {
   "cell_type": "markdown",
   "metadata": {},
   "source": [
    "🧺 Keep this notebook tidy! \n",
    "\n",
    "🗣 📊 You will present your insights to your favorite TA at the end of this `Communicate` unit 💪"
   ]
  }
 ],
 "metadata": {
  "kernelspec": {
   "display_name": "Python 3 (ipykernel)",
   "language": "python",
   "name": "python3"
  },
  "language_info": {
   "codemirror_mode": {
    "name": "ipython",
    "version": 3
   },
   "file_extension": ".py",
   "mimetype": "text/x-python",
   "name": "python",
   "nbconvert_exporter": "python",
   "pygments_lexer": "ipython3",
   "version": "3.10.6"
  },
  "toc": {
   "base_numbering": 1,
   "nav_menu": {},
   "number_sections": true,
   "sideBar": true,
   "skip_h1_title": false,
   "title_cell": "Table of Contents",
   "title_sidebar": "Contents",
   "toc_cell": false,
   "toc_position": {},
   "toc_section_display": true,
   "toc_window_display": false
  }
 },
 "nbformat": 4,
 "nbformat_minor": 4
}
